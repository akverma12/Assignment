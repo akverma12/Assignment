{
 "cells": [
  {
   "cell_type": "code",
   "execution_count": 66,
   "id": "c2001f0e",
   "metadata": {},
   "outputs": [
    {
     "name": "stdout",
     "output_type": "stream",
     "text": [
      "[1, 2, 3, 4] [[44, 55, 66, True], [56, 'data science']] [(34, 56, 78, 89, 34)] [{1: 34, 'key2': [55, 67, 78, 89], 4: (45, 22, 61, 34)}] [{1, 2, 3}]\n"
     ]
    }
   ],
   "source": [
    "num=[1,2,3,4, [44,55,66, True], False, (34,56,78,89,34), {1,2,3,3,2,1}, {1:34, \"key2\": [55, 67, 78, 89], 4: (45, \n",
    "22, 61, 34)}, [56, 'data science'], 'Machine Learning']\n",
    "\n",
    "data=[]\n",
    "data1=[]\n",
    "data2=[]\n",
    "data3=[]\n",
    "data4=[]\n",
    "\n",
    "for i in num:\n",
    "    if type(i)== int :\n",
    "        data.append(i)\n",
    "\n",
    "    if type(i)== list:\n",
    "        data1.append(i)\n",
    "        \n",
    "    if type(i)== tuple:\n",
    "        data2.append(i)\n",
    "        \n",
    "    if type(i)== dict:\n",
    "        data3.append(i)\n",
    "    \n",
    "    if type(i)== set:\n",
    "        data4.append(i)\n",
    "    \n",
    "print(data, data1, data2, data3, data4)\n",
    "        "
   ]
  },
  {
   "cell_type": "code",
   "execution_count": 60,
   "id": "e2ed7ca2",
   "metadata": {},
   "outputs": [
    {
     "data": {
      "text/plain": [
       "list"
      ]
     },
     "execution_count": 60,
     "metadata": {},
     "output_type": "execute_result"
    }
   ],
   "source": [
    "i= data3\n",
    "    \n",
    "type(i)"
   ]
  },
  {
   "cell_type": "code",
   "execution_count": 61,
   "id": "1aecff1b",
   "metadata": {},
   "outputs": [
    {
     "data": {
      "text/plain": [
       "[{1: 34, 'key2': [55, 67, 78, 89], 4: (45, 22, 61, 34)}]"
      ]
     },
     "execution_count": 61,
     "metadata": {},
     "output_type": "execute_result"
    }
   ],
   "source": [
    "i"
   ]
  },
  {
   "cell_type": "code",
   "execution_count": 71,
   "id": "5a8c7c2f",
   "metadata": {},
   "outputs": [],
   "source": [
    "i={1,2,3,3,2,1}\n",
    "for j in i:\n",
    "    c=0\n",
    "    for k in i:\n",
    "        if j==k:\n",
    "            c=c+1\n",
    "    if c>1:\n",
    "        print(j)\n",
    "    "
   ]
  },
  {
   "cell_type": "code",
   "execution_count": null,
   "id": "435d4cf7",
   "metadata": {},
   "outputs": [],
   "source": []
  }
 ],
 "metadata": {
  "kernelspec": {
   "display_name": "Python 3 (ipykernel)",
   "language": "python",
   "name": "python3"
  },
  "language_info": {
   "codemirror_mode": {
    "name": "ipython",
    "version": 3
   },
   "file_extension": ".py",
   "mimetype": "text/x-python",
   "name": "python",
   "nbconvert_exporter": "python",
   "pygments_lexer": "ipython3",
   "version": "3.9.13"
  }
 },
 "nbformat": 4,
 "nbformat_minor": 5
}
