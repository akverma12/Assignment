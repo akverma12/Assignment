{
 "cells": [
  {
   "cell_type": "markdown",
   "id": "61a04aa3",
   "metadata": {},
   "source": [
    "##### 1."
   ]
  },
  {
   "cell_type": "code",
   "execution_count": 1,
   "id": "0dda667d",
   "metadata": {},
   "outputs": [
    {
     "name": "stdout",
     "output_type": "stream",
     "text": [
      "Enter the percentage: 56\n",
      "Grade: D\n"
     ]
    }
   ],
   "source": [
    "percentage = float(input(\"Enter the percentage: \"))\n",
    "\n",
    "if percentage >= 90:\n",
    "    grade = \"A\"\n",
    "elif percentage >= 80 and percentage < 90:\n",
    "    grade = \"B\"\n",
    "elif percentage >= 60 and percentage < 80:\n",
    "    grade = \"C\"\n",
    "else:\n",
    "    grade = \"D\"\n",
    "\n",
    "print(\"Grade:\", grade)\n"
   ]
  },
  {
   "cell_type": "markdown",
   "id": "71d133fc",
   "metadata": {},
   "source": [
    "##### 2."
   ]
  },
  {
   "cell_type": "code",
   "execution_count": 2,
   "id": "ac0d2749",
   "metadata": {},
   "outputs": [
    {
     "name": "stdout",
     "output_type": "stream",
     "text": [
      "Enter the cost price (in Rs): 45000\n",
      "Tax amount: 2250.0 Rs\n"
     ]
    }
   ],
   "source": [
    "cost_price = float(input(\"Enter the cost price (in Rs): \"))\n",
    "\n",
    "if cost_price > 100000:\n",
    "    tax_percentage = 15\n",
    "elif cost_price > 50000 and cost_price <= 100000:\n",
    "    tax_percentage = 10\n",
    "else:\n",
    "    tax_percentage = 5\n",
    "\n",
    "tax_amount = (tax_percentage / 100) * cost_price\n",
    "\n",
    "print(\"Tax amount:\", tax_amount, \"Rs\")\n"
   ]
  },
  {
   "cell_type": "markdown",
   "id": "ac5f2e08",
   "metadata": {},
   "source": [
    "##### Q3."
   ]
  },
  {
   "cell_type": "code",
   "execution_count": 4,
   "id": "a0397942",
   "metadata": {},
   "outputs": [
    {
     "name": "stdout",
     "output_type": "stream",
     "text": [
      "Enter the city: delhi\n",
      "Red Fort\n"
     ]
    }
   ],
   "source": [
    "city = input(\"Enter the city: \")\n",
    "\n",
    "if city.lower() == \"delhi\":\n",
    "    monument = \"Red Fort\"\n",
    "elif city.lower() == \"agra\":\n",
    "    monument = \"Taj Mahal\"\n",
    "elif city.lower() == \"jaipur\":\n",
    "    monument = \"Jal Mahal\"\n",
    "else:\n",
    "    monument = \"Monument not found for the given city.\"\n",
    "\n",
    "print(f\"{monument:}\")\n"
   ]
  },
  {
   "cell_type": "markdown",
   "id": "840e87f7",
   "metadata": {},
   "source": [
    "##### Q4.\n"
   ]
  },
  {
   "cell_type": "code",
   "execution_count": 5,
   "id": "b257539d",
   "metadata": {},
   "outputs": [
    {
     "name": "stdout",
     "output_type": "stream",
     "text": [
      "Enter a number: 15\n",
      "The given number can be divided by 3 1 times before it is less than or equal to 10.\n"
     ]
    }
   ],
   "source": [
    "number = int(input(\"Enter a number: \"))\n",
    "count = 0\n",
    "\n",
    "while number > 10:\n",
    "    number /= 3\n",
    "    count += 1\n",
    "\n",
    "print(\"The given number can be divided by 3\", count, \"times before it is less than or equal to 10.\")\n"
   ]
  },
  {
   "cell_type": "markdown",
   "id": "12a6683c",
   "metadata": {},
   "source": [
    "##### Q5. Why and When to Use while Loop in Python give a detailed description with example"
   ]
  },
  {
   "cell_type": "markdown",
   "id": "7a91d655",
   "metadata": {},
   "source": [
    "###### \n",
    "The while loop in Python is used to repeatedly execute a block of code as long as a certain condition is true. It provides a way to perform iterative tasks when the number of iterations is not known beforehand. The loop continues to execute until the condition evaluates to False."
   ]
  },
  {
   "cell_type": "code",
   "execution_count": 1,
   "id": "ecac0236",
   "metadata": {},
   "outputs": [
    {
     "name": "stdout",
     "output_type": "stream",
     "text": [
      "Enter a number (-1 to exit): 5\n",
      "Enter a number (-1 to exit): 6\n",
      "Enter a number (-1 to exit): 25\n",
      "Enter a number (-1 to exit): -1\n",
      "The sum of the numbers entered is: 36\n"
     ]
    }
   ],
   "source": [
    "# Summing numbers entered by the user\n",
    "total = 0\n",
    "num = 0\n",
    "\n",
    "while num != -1:\n",
    "    num = int(input(\"Enter a number (-1 to exit): \"))\n",
    "    if num != -1:\n",
    "        total += num\n",
    "\n",
    "print(\"The sum of the numbers entered is:\", total)\n"
   ]
  },
  {
   "cell_type": "markdown",
   "id": "4315c618",
   "metadata": {},
   "source": [
    "##### Q6.Use nested while loop to print 3 different pattern."
   ]
  },
  {
   "cell_type": "markdown",
   "id": "24b8b32d",
   "metadata": {},
   "source": [
    "###### Pattern 1: Square Pattern"
   ]
  },
  {
   "cell_type": "code",
   "execution_count": 2,
   "id": "b18626d3",
   "metadata": {},
   "outputs": [
    {
     "name": "stdout",
     "output_type": "stream",
     "text": [
      "* * * * * \n",
      "* * * * * \n",
      "* * * * * \n",
      "* * * * * \n",
      "* * * * * \n"
     ]
    }
   ],
   "source": [
    "n = 5  # Number of rows and columns\n",
    "\n",
    "i = 1\n",
    "while i <= n:\n",
    "    j = 1\n",
    "    while j <= n:\n",
    "        print(\"*\", end=\" \")\n",
    "        j += 1\n",
    "    print()\n",
    "    i += 1\n"
   ]
  },
  {
   "cell_type": "markdown",
   "id": "7f439273",
   "metadata": {},
   "source": [
    "###### Pattern 2: Triangle Pattern\n"
   ]
  },
  {
   "cell_type": "code",
   "execution_count": 3,
   "id": "cbdb2606",
   "metadata": {},
   "outputs": [
    {
     "name": "stdout",
     "output_type": "stream",
     "text": [
      "* \n",
      "* * \n",
      "* * * \n",
      "* * * * \n",
      "* * * * * \n"
     ]
    }
   ],
   "source": [
    "n = 5  # Number of rows\n",
    "\n",
    "i = 1\n",
    "while i <= n:\n",
    "    j = 1\n",
    "    while j <= i:\n",
    "        print(\"*\", end=\" \")\n",
    "        j += 1\n",
    "    print()\n",
    "    i += 1\n"
   ]
  },
  {
   "cell_type": "markdown",
   "id": "481afb32",
   "metadata": {},
   "source": [
    "###### Pattern 3: Pyramid Pattern"
   ]
  },
  {
   "cell_type": "code",
   "execution_count": 4,
   "id": "89bf485b",
   "metadata": {
    "scrolled": true
   },
   "outputs": [
    {
     "name": "stdout",
     "output_type": "stream",
     "text": [
      "        * \n",
      "      * * \n",
      "    * * * \n",
      "  * * * * \n",
      "* * * * * \n"
     ]
    }
   ],
   "source": [
    "n = 5  # Number of rows\n",
    "\n",
    "i = 1\n",
    "while i <= n:\n",
    "    space = 1\n",
    "    while space <= n - i:\n",
    "        print(\" \", end=\" \")\n",
    "        space += 1\n",
    "    \n",
    "    j = 1\n",
    "    while j <= i:\n",
    "        print(\"*\", end=\" \")\n",
    "        j += 1\n",
    "    \n",
    "    print()\n",
    "    i += 1\n"
   ]
  },
  {
   "cell_type": "markdown",
   "id": "5ed806b9",
   "metadata": {},
   "source": [
    "##### Q7. Reverse a while loop to display numbers from 10to 1."
   ]
  },
  {
   "cell_type": "code",
   "execution_count": 5,
   "id": "46cb93ab",
   "metadata": {},
   "outputs": [
    {
     "name": "stdout",
     "output_type": "stream",
     "text": [
      "10\n",
      "9\n",
      "8\n",
      "7\n",
      "6\n",
      "5\n",
      "4\n",
      "3\n",
      "2\n",
      "1\n"
     ]
    }
   ],
   "source": [
    "num = 10\n",
    "\n",
    "while num >= 1:\n",
    "    print(num)\n",
    "    num -= 1\n"
   ]
  },
  {
   "cell_type": "code",
   "execution_count": null,
   "id": "8d75468c",
   "metadata": {},
   "outputs": [],
   "source": []
  }
 ],
 "metadata": {
  "kernelspec": {
   "display_name": "Python 3 (ipykernel)",
   "language": "python",
   "name": "python3"
  },
  "language_info": {
   "codemirror_mode": {
    "name": "ipython",
    "version": 3
   },
   "file_extension": ".py",
   "mimetype": "text/x-python",
   "name": "python",
   "nbconvert_exporter": "python",
   "pygments_lexer": "ipython3",
   "version": "3.9.13"
  }
 },
 "nbformat": 4,
 "nbformat_minor": 5
}
