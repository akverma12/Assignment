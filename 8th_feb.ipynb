{
 "cells": [
  {
   "cell_type": "markdown",
   "id": "18298666",
   "metadata": {},
   "source": [
    "##### Q1. What is Abstraction in OOps? Explain with an example."
   ]
  },
  {
   "cell_type": "markdown",
   "id": "eea82291",
   "metadata": {},
   "source": [
    "###### \n",
    "In object-oriented programming (OOP), abstraction is a fundamental concept that allows us to represent complex real-world entities as simplified models within our code. It focuses on capturing the essential characteristics and behaviors of an object while hiding unnecessary details.\n",
    "\n",
    "Abstraction is implemented using abstract classes and interfaces in Python. An abstract class is a blueprint for other classes and cannot be instantiated on its own. It serves as a general template for subclasses to inherit from and provides common attributes and methods that can be overridden or implemented by the subclasses.\n",
    "Abstraction allows us to work with generalized objects and behaviors, promoting code reusability and modularity. It helps to manage complexity and provides a higher level of abstraction for more efficient and maintainable code.\n",
    "Here's an example to illustrate abstraction in Python:\n"
   ]
  },
  {
   "cell_type": "code",
   "execution_count": 1,
   "id": "4e1bcf31",
   "metadata": {},
   "outputs": [
    {
     "name": "stdout",
     "output_type": "stream",
     "text": [
      "Woof!\n",
      "Meow!\n"
     ]
    }
   ],
   "source": [
    "from abc import ABC, abstractmethod\n",
    "\n",
    "class Animal(ABC):\n",
    "    def __init__(self, name):\n",
    "        self.name = name\n",
    "    \n",
    "    @abstractmethod\n",
    "    def make_sound(self):\n",
    "        pass\n",
    "\n",
    "class Dog(Animal):\n",
    "    def make_sound(self):\n",
    "        return \"Woof!\"\n",
    "\n",
    "class Cat(Animal):\n",
    "    def make_sound(self):\n",
    "        return \"Meow!\"\n",
    "\n",
    "dog = Dog(\"Buddy\")\n",
    "print(dog.make_sound())  # Output: Woof!\n",
    "\n",
    "cat = Cat(\"Whiskers\")\n",
    "print(cat.make_sound())  # Output: Meow!\n"
   ]
  },
  {
   "cell_type": "markdown",
   "id": "5cb9b847",
   "metadata": {},
   "source": [
    "##### Q2. Differentiate between Abstraction and Encapsulation. Explain with an example."
   ]
  },
  {
   "cell_type": "markdown",
   "id": "1f357ad5",
   "metadata": {},
   "source": [
    "\n",
    "###### Abstraction:\n",
    "- Abstraction focuses on creating simplified models of real-world entities by hiding unnecessary details.\n",
    "- It is achieved through abstract classes and interfaces.\n",
    "- Abstraction emphasizes the \"what\" aspect of an object, abstracting away the implementation details.\n",
    "- It allows us to define common attributes and behaviors in a base class and leave the specific implementation to the subclasses.\n",
    "- Example: In a banking system, we can have an abstract class called `BankAccount` that defines common methods like `deposit()`, `withdraw()`, and `get_balance()`. The subclasses, such as `SavingsAccount` and `CheckingAccount`, can inherit from `BankAccount` and provide their own implementation of these methods.\n"
   ]
  },
  {
   "cell_type": "code",
   "execution_count": 3,
   "id": "1988776b",
   "metadata": {},
   "outputs": [
    {
     "name": "stdout",
     "output_type": "stream",
     "text": [
      "1500\n",
      "500\n"
     ]
    }
   ],
   "source": [
    "from abc import ABC, abstractmethod\n",
    "\n",
    "class BankAccount(ABC):\n",
    "    def __init__(self, account_number, balance):\n",
    "        self.account_number = account_number\n",
    "        self.balance = balance\n",
    "    \n",
    "    @abstractmethod\n",
    "    def deposit(self, amount):\n",
    "        pass\n",
    "    \n",
    "    @abstractmethod\n",
    "    def withdraw(self, amount):\n",
    "        pass\n",
    "    \n",
    "    def get_balance(self):\n",
    "        return self.balance\n",
    "\n",
    "class SavingsAccount(BankAccount):\n",
    "    def deposit(self, amount):\n",
    "        self.balance += amount\n",
    "\n",
    "    def withdraw(self, amount):\n",
    "        if amount <= self.balance:\n",
    "            self.balance -= amount\n",
    "        else:\n",
    "            print(\"Insufficient funds\")\n",
    "\n",
    "class CheckingAccount(BankAccount):\n",
    "    def deposit(self, amount):\n",
    "        self.balance += amount\n",
    "\n",
    "    def withdraw(self, amount):\n",
    "        if amount <= self.balance:\n",
    "            self.balance -= amount\n",
    "        else:\n",
    "            print(\"Insufficient funds\")\n",
    "\n",
    "savings = SavingsAccount(\"123456\", 1000)\n",
    "savings.deposit(500)\n",
    "print(savings.get_balance())  \n",
    "\n",
    "checking = CheckingAccount(\"654321\", 2000)\n",
    "checking.withdraw(1500)\n",
    "print(checking.get_balance()) \n"
   ]
  },
  {
   "cell_type": "markdown",
   "id": "93a2f801",
   "metadata": {},
   "source": [
    "###### \n",
    "###### Encapsulation:\n",
    "- Encapsulation is the process of bundling data and methods into a single unit called a class.\n",
    "- It combines data (attributes) and behaviors (methods) into a cohesive entity.\n",
    "- Encapsulation emphasizes the \"how\" aspect of an object, encapsulating the internal workings and state.\n",
    "- It helps in achieving data hiding and access control by defining public and private members.\n",
    "- Example: Consider a class called `Person` with attributes like `name`, `age`, and methods like `get_name()` and `set_age()`. The attributes are encapsulated within the class, and the methods provide controlled access to these attributes, ensuring that data is accessed and modified correctly.\n",
    "\n"
   ]
  },
  {
   "cell_type": "code",
   "execution_count": 5,
   "id": "aa76b23d",
   "metadata": {},
   "outputs": [
    {
     "name": "stdout",
     "output_type": "stream",
     "text": [
      "Alice\n",
      "30\n",
      "Invalid age\n"
     ]
    }
   ],
   "source": [
    "class Person:\n",
    "    def __init__(self, name, age):\n",
    "        self._name = name\n",
    "        self._age = age\n",
    "    \n",
    "    def get_name(self):\n",
    "        return self._name\n",
    "    \n",
    "    def set_age(self, age):\n",
    "        if age >= 0:\n",
    "            self._age = age\n",
    "        else:\n",
    "            print(\"Invalid age\")\n",
    "    \n",
    "    def get_age(self):  # Added the missing get_age() method\n",
    "        return self._age\n",
    "\n",
    "person = Person(\"Alice\", 25)\n",
    "print(person.get_name())  \n",
    "\n",
    "person.set_age(30)\n",
    "print(person.get_age())  \n",
    "\n",
    "person.set_age(-5)  \n"
   ]
  },
  {
   "cell_type": "markdown",
   "id": "fff64669",
   "metadata": {},
   "source": [
    "###### \n",
    "In summary, abstraction deals with creating simplified models by hiding unnecessary details, while encapsulation focuses on bundling data and methods together to achieve data hiding and access control.\n",
    "\n",
    "Both abstraction and encapsulation are important concepts in OOP as they promote code organization, reusability, and maintainability. They help in building modular and robust software systems."
   ]
  },
  {
   "cell_type": "markdown",
   "id": "1ec6c62d",
   "metadata": {},
   "source": [
    "#### Q3. What is abc module in python? Why is it used?"
   ]
  },
  {
   "cell_type": "markdown",
   "id": "b4bd17e0",
   "metadata": {},
   "source": [
    "###### \n",
    "The `abc` module in Python stands for \"Abstract Base Classes.\" It provides the infrastructure for defining abstract base classes (ABCs) in Python. An abstract base class is a class that cannot be instantiated directly but serves as a blueprint for other classes to inherit from. \n",
    "\n",
    "The `abc` module is used to create abstract base classes and enforce certain rules or contracts that subclasses must adhere to. It helps in defining a common interface or structure that subclasses should implement, promoting code organization, reusability, and maintainability.\n",
    "\n",
    "Here are some key points about the `abc` module and its usage:\n",
    "\n",
    "1. Defining Abstract Base Classes: The `abc` module provides the `ABC` class, which is used as a base class for creating abstract base classes. By inheriting from `ABC`, a class becomes an abstract base class. Abstract methods within the abstract base class are decorated with the `@abstractmethod` decorator.\n",
    "\n",
    "2. Enforcing Abstract Methods: Abstract methods defined within an abstract base class have no implementation and must be overridden by the concrete subclasses. If a subclass fails to implement an abstract method, it will raise a `TypeError` during instantiation.\n",
    "\n",
    "3. Providing a Common Interface: Abstract base classes can define a set of methods or attributes that subclasses should implement. This allows developers to rely on the common interface provided by the abstract base class without worrying about the specific implementation details of each subclass.\n",
    "\n",
    "4. Polymorphism and Duck Typing: Using abstract base classes, you can achieve polymorphism by treating objects of different subclasses as instances of the abstract base class. This allows you to write more generic code that works with multiple subclasses as long as they adhere to the common interface defined by the abstract base class.\n",
    "\n"
   ]
  },
  {
   "cell_type": "markdown",
   "id": "476dff7a",
   "metadata": {},
   "source": [
    "##### Q4. How can we achieve data abstraction?"
   ]
  },
  {
   "cell_type": "markdown",
   "id": "f808d72c",
   "metadata": {},
   "source": [
    "###### \n",
    "To achieve data abstraction in Python, you can follow these key principles:\n",
    "\n",
    "1. Define Classes: Create classes to represent the abstract entities or concepts in your program. Classes act as a blueprint for creating objects that encapsulate data and behavior.\n",
    "\n",
    "2. Access Modifiers: Use access modifiers, such as private and protected attributes, to control the visibility and accessibility of data within a class. In Python, naming conventions are typically used to indicate the level of visibility. A single underscore `_` prefix indicates a private attribute, while a double underscore `__` prefix indicates a strongly private attribute.\n",
    "\n",
    "3. Encapsulation: Encapsulate the data by defining methods (getter and setter methods) within the class to access and modify the internal attributes. This way, the internal representation of the data is hidden, and access to it is controlled through these methods.\n",
    "\n",
    "4. Data Validation: Implement data validation and impose constraints on the allowed values or formats of the data within the class. This ensures that the data remains consistent and valid throughout the program.\n",
    "\n"
   ]
  },
  {
   "cell_type": "code",
   "execution_count": 2,
   "id": "667926dc",
   "metadata": {},
   "outputs": [
    {
     "name": "stdout",
     "output_type": "stream",
     "text": [
      "Name: Alice, Age: 25\n",
      "Name: Alice, Age: 30\n",
      "Invalid age\n",
      "Name: Alice, Age: 30\n"
     ]
    }
   ],
   "source": [
    "class Person:\n",
    "    def __init__(self, name, age):\n",
    "        self._name = name\n",
    "        self._age = age\n",
    "    \n",
    "    def get_name(self):\n",
    "        return self._name\n",
    "    \n",
    "    def set_age(self, age):\n",
    "        if age >= 0:\n",
    "            self._age = age\n",
    "        else:\n",
    "            print(\"Invalid age\")\n",
    "    \n",
    "    def display_info(self):\n",
    "        print(f\"Name: {self._name}, Age: {self._age}\")\n",
    "\n",
    "person = Person(\"Alice\", 25)\n",
    "person.display_info() \n",
    "\n",
    "person.set_age(30)\n",
    "person.display_info()  \n",
    "\n",
    "person.set_age(-5)  \n",
    "person.display_info()  \n"
   ]
  },
  {
   "cell_type": "markdown",
   "id": "a5dab7d5",
   "metadata": {},
   "source": [
    "###### \n",
    "\n",
    "In this example, the `Person` class encapsulates the `name` and `age` attributes. The attributes are marked as private by prefixing them with a single underscore `_`. Access to these attributes is controlled through getter and setter methods (`get_name()` and `set_age()`). The setter method performs data validation to ensure that only valid age values are set.\n",
    "\n",
    "By defining these methods and encapsulating the data, we achieve data abstraction. The internal representation of the data is hidden, and external code interacts with the class through the defined methods.\n",
    "\n",
    "Data abstraction helps in managing complexity, maintaining data integrity, and providing a clean interface for working with the data. It allows you to focus on the behavior and operations related to the data, rather than worrying about the internal implementation details."
   ]
  },
  {
   "cell_type": "markdown",
   "id": "1114ff18",
   "metadata": {},
   "source": [
    "##### Q5. Can we create an instance of an abstract class? Explain your answer."
   ]
  },
  {
   "cell_type": "markdown",
   "id": "a39ec111",
   "metadata": {},
   "source": [
    "#####\n",
    "No, we cannot create an instance of an abstract class in Python. An abstract class is a class that is meant to be inherited from and serves as a blueprint for other classes. It cannot be instantiated directly.\n",
    "\n",
    "The purpose of an abstract class is to define a common interface, structure, or behavior that its subclasses should implement. It often contains one or more abstract methods, which are methods without any implementation details. These abstract methods must be overridden by the concrete subclasses.\n",
    "\n",
    "To create an object of a class, it must be a concrete class that provides the implementation for all the abstract methods inherited from its abstract base class(es). Only concrete subclasses that provide the necessary implementation can be instantiated.\n",
    "\n",
    "Attempting to create an instance of an abstract class will result in a `TypeError` with the message \"Can't instantiate abstract class <ClassName> with abstract methods <method1>, <method2>, ...\" This error is raised to prevent the creation of objects from incomplete or undefined classes.\n",
    "\n",
    "Here's an example that demonstrates the impossibility of creating an instance of an abstract class:\n"
   ]
  },
  {
   "cell_type": "code",
   "execution_count": 4,
   "id": "b951f382",
   "metadata": {},
   "outputs": [
    {
     "ename": "TypeError",
     "evalue": "Can't instantiate abstract class AbstractClass with abstract method abstract_method",
     "output_type": "error",
     "traceback": [
      "\u001b[1;31m---------------------------------------------------------------------------\u001b[0m",
      "\u001b[1;31mTypeError\u001b[0m                                 Traceback (most recent call last)",
      "\u001b[1;32m~\\AppData\\Local\\Temp\\ipykernel_16340\\3320571376.py\u001b[0m in \u001b[0;36m<module>\u001b[1;34m\u001b[0m\n\u001b[0;32m      7\u001b[0m \u001b[1;33m\u001b[0m\u001b[0m\n\u001b[0;32m      8\u001b[0m \u001b[1;31m# Trying to create an instance of the abstract class\u001b[0m\u001b[1;33m\u001b[0m\u001b[1;33m\u001b[0m\u001b[0m\n\u001b[1;32m----> 9\u001b[1;33m \u001b[0mobj\u001b[0m \u001b[1;33m=\u001b[0m \u001b[0mAbstractClass\u001b[0m\u001b[1;33m(\u001b[0m\u001b[1;33m)\u001b[0m\u001b[1;33m\u001b[0m\u001b[1;33m\u001b[0m\u001b[0m\n\u001b[0m",
      "\u001b[1;31mTypeError\u001b[0m: Can't instantiate abstract class AbstractClass with abstract method abstract_method"
     ]
    }
   ],
   "source": [
    "from abc import ABC, abstractmethod\n",
    "\n",
    "class AbstractClass(ABC):\n",
    "    @abstractmethod\n",
    "    def abstract_method(self):\n",
    "        pass\n",
    "\n",
    "# Trying to create an instance of the abstract class\n",
    "obj = AbstractClass()  \n"
   ]
  },
  {
   "cell_type": "markdown",
   "id": "fd929147",
   "metadata": {},
   "source": [
    "##### \n",
    "\n",
    "In this example, the class `AbstractClass` is an abstract class that defines an abstract method `abstract_method()`. When attempting to create an instance of `AbstractClass`, a `TypeError` is raised because it is not allowed to directly instantiate an abstract class.\n",
    "\n",
    "To use the functionality defined in an abstract class, you need to create a concrete subclass that provides an implementation for all the abstract methods. Then, you can create instances of the concrete subclass and utilize its functionality.\n",
    "\n",
    "I hope this explanation clarifies that we cannot create an instance of an abstract class in Python. If you have any further questions, feel free to ask!"
   ]
  }
 ],
 "metadata": {
  "kernelspec": {
   "display_name": "Python 3 (ipykernel)",
   "language": "python",
   "name": "python3"
  },
  "language_info": {
   "codemirror_mode": {
    "name": "ipython",
    "version": 3
   },
   "file_extension": ".py",
   "mimetype": "text/x-python",
   "name": "python",
   "nbconvert_exporter": "python",
   "pygments_lexer": "ipython3",
   "version": "3.9.13"
  }
 },
 "nbformat": 4,
 "nbformat_minor": 5
}
