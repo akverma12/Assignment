{
 "cells": [
  {
   "cell_type": "markdown",
   "id": "1de74fe3",
   "metadata": {},
   "source": [
    "##### Q1, Create a vehicle class with an init method having instance variables as name_of_vehicle, max_speed and average_of_vehicle. "
   ]
  },
  {
   "cell_type": "code",
   "execution_count": 1,
   "id": "5f3a96e4",
   "metadata": {},
   "outputs": [
    {
     "name": "stdout",
     "output_type": "stream",
     "text": [
      "Car\n",
      "200\n",
      "40\n",
      "Bike\n",
      "120\n",
      "30\n"
     ]
    }
   ],
   "source": [
    "class Vehicle:\n",
    "    def __init__(self, name_of_vehicle, max_speed, average_of_vehicle):\n",
    "        self.name_of_vehicle = name_of_vehicle\n",
    "        self.max_speed = max_speed\n",
    "        self.average_of_vehicle = average_of_vehicle\n",
    "\n",
    "# Creating instances of the Vehicle class\n",
    "car = Vehicle(\"Car\", 200, 40)\n",
    "bike = Vehicle(\"Bike\", 120, 30)\n",
    "\n",
    "# Accessing the instance variables\n",
    "print(car.name_of_vehicle)  \n",
    "print(car.max_speed) \n",
    "print(car.average_of_vehicle)  \n",
    "\n",
    "print(bike.name_of_vehicle)  \n",
    "print(bike.max_speed) \n",
    "print(bike.average_of_vehicle)\n"
   ]
  },
  {
   "cell_type": "markdown",
   "id": "447ae20e",
   "metadata": {},
   "source": [
    "##### Q2.  Create a child class car from the vehicle class created in Que 1, which will inherit the vehicle class. Create a method named seating_capacity which takes capacity as an argument and returns the name of the vehicle and its seating capacity"
   ]
  },
  {
   "cell_type": "code",
   "execution_count": 3,
   "id": "6cd7c85c",
   "metadata": {},
   "outputs": [
    {
     "name": "stdout",
     "output_type": "stream",
     "text": [
      "Sedan\n",
      "200\n",
      "40\n",
      "Sedan has a seating capacity of 5 people\n"
     ]
    }
   ],
   "source": [
    "class Car(Vehicle):\n",
    "    def seating_capacity(self, capacity):\n",
    "        return f\"{self.name_of_vehicle} has a seating capacity of {capacity} people\"\n",
    "\n",
    "# Creating an instance of the Car class\n",
    "car = Car(\"Sedan\", 200, 40)\n",
    "\n",
    "# Accessing the inherited instance variables\n",
    "print(car.name_of_vehicle) \n",
    "print(car.max_speed)\n",
    "print(car.average_of_vehicle) \n",
    "\n",
    "# Calling the method from the Car class\n",
    "print(car.seating_capacity(5))  \n"
   ]
  },
  {
   "cell_type": "markdown",
   "id": "b52b1b6f",
   "metadata": {},
   "source": [
    "##### Q3. What is multiple inheritance? Write a python code to demonstrate multiple inheritance."
   ]
  },
  {
   "cell_type": "markdown",
   "id": "59409307",
   "metadata": {},
   "source": [
    "###### \n",
    "Multiple inheritance is a feature in object-oriented programming where a class can inherit attributes and methods from multiple parent classes. It allows a subclass to inherit from more than one base class, combining the features and functionalities of those parent classes.\n",
    "\n",
    "Here's an example \n",
    "\n"
   ]
  },
  {
   "cell_type": "code",
   "execution_count": 4,
   "id": "0f72074b",
   "metadata": {},
   "outputs": [
    {
     "name": "stdout",
     "output_type": "stream",
     "text": [
      "Sparrow is eating.\n",
      "Sparrow is sleeping.\n",
      "Sparrow is flying.\n"
     ]
    }
   ],
   "source": [
    "class Animal:\n",
    "    def __init__(self, name):\n",
    "        self.name = name\n",
    "\n",
    "    def eat(self):\n",
    "        print(f\"{self.name} is eating.\")\n",
    "\n",
    "    def sleep(self):\n",
    "        print(f\"{self.name} is sleeping.\")\n",
    "\n",
    "\n",
    "class Flyable:\n",
    "    def fly(self):\n",
    "        print(f\"{self.name} is flying.\")\n",
    "\n",
    "\n",
    "class Bird(Animal, Flyable):\n",
    "    def __init__(self, name):\n",
    "        super().__init__(name)\n",
    "\n",
    "\n",
    "bird = Bird(\"Sparrow\")\n",
    "bird.eat()  # Output: Sparrow is eating.\n",
    "bird.sleep()  # Output: Sparrow is sleeping.\n",
    "bird.fly()  # Output: Sparrow is flying.\n"
   ]
  },
  {
   "cell_type": "markdown",
   "id": "934433b7",
   "metadata": {},
   "source": [
    "###### Q4. What are getter and setter in python? Create a class and create a getter and a setter method in this class."
   ]
  },
  {
   "cell_type": "markdown",
   "id": "56f63012",
   "metadata": {},
   "source": [
    "\n",
    "In Python, getters and setters are methods used to access (get) and modify (set) the values of class attributes. They provide a controlled way to retrieve and update the internal state of an object, allowing you to enforce data validation, encapsulation, and maintain the integrity of the object's data.\n",
    "\n",
    "Here's an example of a class that demonstrates the use of getter and setter methods:\n",
    "\n"
   ]
  },
  {
   "cell_type": "code",
   "execution_count": 6,
   "id": "d27c63c2",
   "metadata": {},
   "outputs": [
    {
     "name": "stdout",
     "output_type": "stream",
     "text": [
      "Alice\n",
      "25\n",
      "30\n",
      "Invalid age\n",
      "30\n"
     ]
    }
   ],
   "source": [
    "class Person:\n",
    "    def __init__(self, name, age):\n",
    "        self._name = name\n",
    "        self._age = age\n",
    "\n",
    "    def get_name(self):\n",
    "        return self._name\n",
    "\n",
    "    def set_age(self, age):\n",
    "        if age >= 0:\n",
    "            self._age = age\n",
    "        else:\n",
    "            print(\"Invalid age\")\n",
    "\n",
    "    def get_age(self):\n",
    "        return self._age\n",
    "\n",
    "# Creating an instance of the Person class\n",
    "person = Person(\"Alice\", 25)\n",
    "\n",
    "# Using the getter method to access the name and age attributes\n",
    "print(person.get_name())  \n",
    "print(person.get_age())  \n",
    "\n",
    "# Using the setter method to modify the age attribute\n",
    "person.set_age(30)\n",
    "print(person.get_age())\n",
    "\n",
    "# Trying to set an invalid age\n",
    "person.set_age(-5)  \n",
    "print(person.get_age())  \n",
    "\n"
   ]
  },
  {
   "cell_type": "markdown",
   "id": "e305ba56",
   "metadata": {},
   "source": [
    "\n",
    "In this example, the `Person` class has two private attributes `_name` and `_age`. To access these attributes from outside the class, getter and setter methods are defined.\n",
    "\n",
    "The `get_name()` method is a getter method that returns the value of the `_name` attribute. It allows external code to retrieve the name of the person.\n",
    "\n",
    "The `set_age()` method is a setter method that takes an `age` argument. It validates the age and updates the `_age` attribute if the age is valid. If the age is negative, it prints an error message.\n",
    "\n",
    "To further demonstrate, we use the getter method `get_age()` to access the `_age` attribute and print its value. After setting the age using the setter method `set_age(30)`, we can see that the value of the `_age` attribute has changed.\n",
    "\n",
    "Finally, we attempt to set an invalid age using `set_age(-5)`. Since the age is negative, the setter method prints an error message, and the `_age` attribute remains unchanged.\n",
    "\n",
    "Using getter and setter methods provides a controlled way to access and modify attributes of an object, allowing you to implement data validation or perform additional actions whenever the attribute is accessed or updated.\n"
   ]
  },
  {
   "cell_type": "markdown",
   "id": "08734861",
   "metadata": {},
   "source": [
    "##### Q5.What is method overriding in python? Write a python code to demonstrate method overriding."
   ]
  },
  {
   "cell_type": "markdown",
   "id": "5610c18b",
   "metadata": {},
   "source": [
    "###### \n",
    "Method overriding in Python is a feature of object-oriented programming where a subclass provides a different implementation for a method that is already defined in its parent class. By overriding a method, the subclass can modify the behavior of the inherited method according to its specific requirements.\n",
    "\n",
    "Here's an example that demonstrates method overriding in Python:"
   ]
  },
  {
   "cell_type": "code",
   "execution_count": 7,
   "id": "24fefb38",
   "metadata": {},
   "outputs": [
    {
     "name": "stdout",
     "output_type": "stream",
     "text": [
      "Animal is making a sound.\n",
      "Dog is barking.\n"
     ]
    }
   ],
   "source": [
    "class Animal:\n",
    "    def make_sound(self):\n",
    "        print(\"Animal is making a sound.\")\n",
    "\n",
    "\n",
    "class Dog(Animal):\n",
    "    def make_sound(self):\n",
    "        print(\"Dog is barking.\")\n",
    "\n",
    "\n",
    "# Creating instances of the classes\n",
    "animal = Animal()\n",
    "dog = Dog()\n",
    "\n",
    "# Calling the make_sound method on the instances\n",
    "animal.make_sound()  \n",
    "dog.make_sound() \n"
   ]
  }
 ],
 "metadata": {
  "kernelspec": {
   "display_name": "Python 3 (ipykernel)",
   "language": "python",
   "name": "python3"
  },
  "language_info": {
   "codemirror_mode": {
    "name": "ipython",
    "version": 3
   },
   "file_extension": ".py",
   "mimetype": "text/x-python",
   "name": "python",
   "nbconvert_exporter": "python",
   "pygments_lexer": "ipython3",
   "version": "3.9.13"
  }
 },
 "nbformat": 4,
 "nbformat_minor": 5
}
