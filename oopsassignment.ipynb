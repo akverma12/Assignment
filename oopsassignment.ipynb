{
 "cells": [
  {
   "cell_type": "markdown",
   "id": "e4528679",
   "metadata": {},
   "source": [
    "##### Q1. Explain Class and Object with respect to Object-Oriented Programming. Give a suitable example"
   ]
  },
  {
   "cell_type": "markdown",
   "id": "8edf5e81",
   "metadata": {},
   "source": [
    "###### \n",
    "In object-oriented programming (OOP), a class is a blueprint or template for creating objects. It defines the attributes (data) and methods (functions) that the objects of the class will have. A class acts as a blueprint for creating multiple instances or objects that share the same structure and behavior.\n",
    "\n",
    "An object, on the other hand, is an instance of a class. It is a specific entity that is created using the class definition. Objects have their own unique data and can perform actions or methods defined in the class.\n",
    "\n",
    "Here's an example to illustrate the concept of class and object"
   ]
  },
  {
   "cell_type": "code",
   "execution_count": 5,
   "id": "645249ad",
   "metadata": {},
   "outputs": [
    {
     "name": "stdout",
     "output_type": "stream",
     "text": [
      "Toyota\n",
      "Civic\n",
      "The Toyota Corolla is driving.\n",
      "The Honda Civic is driving.\n"
     ]
    }
   ],
   "source": [
    "# Defining a class\n",
    "class Car:\n",
    "    def __init__(self, brand, model):\n",
    "        self.brand = brand\n",
    "        self.model = model\n",
    "\n",
    "    def drive(self):\n",
    "        print(f\"The {self.brand} {self.model} is driving.\")\n",
    "\n",
    "# Creating objects of the Car class\n",
    "car1 = Car(\"Toyota\", \"Corolla\")\n",
    "car2 = Car(\"Honda\", \"Civic\")\n",
    "\n",
    "# Accessing object attributes\n",
    "print(car1.brand)  \n",
    "print(car2.model)  \n",
    "\n",
    "# Calling object methods\n",
    "car1.drive()\n",
    "car2.drive()  \n"
   ]
  },
  {
   "cell_type": "markdown",
   "id": "3560617f",
   "metadata": {},
   "source": [
    "##### Q2. Name the four pillars of OOPs."
   ]
  },
  {
   "cell_type": "markdown",
   "id": "f66a2e14",
   "metadata": {},
   "source": [
    "###### \n",
    "The pillars of Object-Oriented Programming (OOP) are:\n",
    "\n",
    "1. Encapsulation: Encapsulation is the process of bundling data and the methods (functions) that operate on that data within a single unit called a class. It allows for data hiding, meaning that the internal representation and implementation details of the class are hidden from the outside world, and only selected methods can interact with the data. Encapsulation helps in achieving better code organization, modularity, and protection of data.\n",
    "\n",
    "2. Inheritance: Inheritance is a mechanism that allows a class to inherit properties and behavior from another class called the superclass or base class. The class that inherits from the base class is called the subclass or derived class. Inheritance enables code reuse and promotes the creation of a hierarchical relationship between classes, where subclasses can inherit and extend the attributes and methods of the superclass. It facilitates the concept of \"is-a\" relationship, where a subclass is a specialized version of the superclass.\n",
    "\n",
    "3. Polymorphism: Polymorphism allows objects of different classes to be treated as objects of a common superclass. It refers to the ability of a variable, function, or object to take on different forms or behaviors based on the context. Polymorphism is achieved through method overriding and method overloading. Method overriding allows a subclass to provide a different implementation of a method that is already defined in its superclass. Method overloading enables the definition of multiple methods with the same name but different parameters in a class.\n",
    "\n",
    "4. Abstraction: Abstraction is the process of representing essential features or properties of an object, while hiding unnecessary details. It involves creating abstract classes or interfaces that define the common attributes and methods that a group of related objects should have. Abstraction allows for the creation of reusable code templates and helps in designing complex systems by focusing on high-level concepts rather than low-level implementation details. It promotes modularity, extensibility, and code maintenance."
   ]
  },
  {
   "cell_type": "markdown",
   "id": "baf45005",
   "metadata": {},
   "source": [
    "#####  Q3. Explain why the __init__() function is used. Give a suitable example."
   ]
  },
  {
   "cell_type": "markdown",
   "id": "a5cd0136",
   "metadata": {},
   "source": [
    "###### \n",
    "The __init__() function is used in Python to initialize the attributes of an object when it is created. It is a special method or constructor that is automatically called when an object is instantiated from a class. The primary purpose of the __init__() function is to set up the initial state of the object by assigning values to its attributes.\n"
   ]
  },
  {
   "cell_type": "code",
   "execution_count": 6,
   "id": "1be47175",
   "metadata": {},
   "outputs": [
    {
     "name": "stdout",
     "output_type": "stream",
     "text": [
      "Alice\n",
      "30\n"
     ]
    }
   ],
   "source": [
    "class Person:\n",
    "    def __init__(self, name, age):\n",
    "        self.name = name\n",
    "        self.age = age\n",
    "\n",
    "# Creating objects of the Person class\n",
    "person1 = Person(\"Alice\", 25)\n",
    "person2 = Person(\"Bob\", 30)\n",
    "\n",
    "# Accessing object attributes\n",
    "print(person1.name)  \n",
    "print(person2.age)   \n"
   ]
  },
  {
   "cell_type": "markdown",
   "id": "c618ccfd",
   "metadata": {},
   "source": [
    "###### Q4. Why self is used in OOPs?"
   ]
  },
  {
   "cell_type": "markdown",
   "id": "27844b66",
   "metadata": {},
   "source": [
    "###### \n",
    "By using self, we ensure that the code operates on the specific instance it is intended for, allowing for proper encapsulation and manipulation of object data within the class\n",
    "###### \n",
    "Here are the main reasons why self is used in OOP:\n",
    "\n",
    "Differentiating between instance variables and local variables: self is used to distinguish instance variables (attributes) from local variables within a class. It clarifies that the variable belongs to the object itself and can be accessed throughout the class.\n",
    "\n",
    "Accessing instance variables and methods: With self, you can access and manipulate the attributes and methods of the object. It provides a way to refer to the specific instance that the code is currently working with. By using self.attribute_name, you can access the instance variable, and by using self.method_name(), you can call the instance method.\n",
    "\n",
    "Maintaining instance state: self helps in maintaining the state or data associated with each instance of a class. It allows different objects to have their own separate set of attributes, ensuring that each object can store and retrieve its specific data without conflicts.\n",
    "\n",
    "Object-oriented programming convention: Using self is a widely adopted convention in Python and many other object-oriented programming languages. It helps in writing clean and readable code by clearly indicating the scope and ownership of variables within a class."
   ]
  },
  {
   "cell_type": "markdown",
   "id": "b046ee8e",
   "metadata": {},
   "source": [
    "##### Q5. What is inheritance? Give an example for each type of inheritance."
   ]
  },
  {
   "cell_type": "markdown",
   "id": "d5630687",
   "metadata": {},
   "source": [
    "###### \n",
    "Ans.:- in object-oriented programming (OOP) that allows a class to inherit properties and behaviors from another class. It establishes a parent-child relationship between classes, where the child class (subclass) inherits attributes and methods from the parent class (superclass). This promotes code reuse, modularity, and the concept of \"is-a\" relationship, where a subclass is considered to be a specialized version of the superclass.\n",
    "###### There are 5 types of inheritance in Python:\n",
    "###### 1. Single Inheritance:"
   ]
  },
  {
   "cell_type": "code",
   "execution_count": 7,
   "id": "bf7dce6c",
   "metadata": {},
   "outputs": [
    {
     "name": "stdout",
     "output_type": "stream",
     "text": [
      "Eating...\n",
      "Barking...\n"
     ]
    }
   ],
   "source": [
    "class Animal:\n",
    "    def eat(self):\n",
    "        print(\"Eating...\")\n",
    "\n",
    "class Dog(Animal):\n",
    "    def bark(self):\n",
    "        print(\"Barking...\")\n",
    "\n",
    "# Creating an object of the Dog class\n",
    "dog = Dog()\n",
    "\n",
    "# Accessing inherited method\n",
    "dog.eat() \n",
    "\n",
    "# Accessing subclass method\n",
    "dog.bark()  \n"
   ]
  },
  {
   "cell_type": "markdown",
   "id": "769067ed",
   "metadata": {},
   "source": [
    "###### 2. Multiple Inheritance: "
   ]
  },
  {
   "cell_type": "code",
   "execution_count": 8,
   "id": "a4f82bd4",
   "metadata": {},
   "outputs": [
    {
     "name": "stdout",
     "output_type": "stream",
     "text": [
      "Driving...\n",
      "Sailing...\n"
     ]
    }
   ],
   "source": [
    "class Car:\n",
    "    def drive(self):\n",
    "        print(\"Driving...\")\n",
    "\n",
    "class Boat:\n",
    "    def sail(self):\n",
    "        print(\"Sailing...\")\n",
    "\n",
    "class AmphibiousVehicle(Car, Boat):\n",
    "    pass\n",
    "\n",
    "# Creating an object of the AmphibiousVehicle class\n",
    "vehicle = AmphibiousVehicle()\n",
    "\n",
    "# Accessing inherited methods\n",
    "vehicle.drive()\n",
    "vehicle.sail() \n"
   ]
  },
  {
   "cell_type": "markdown",
   "id": "b7517b28",
   "metadata": {},
   "source": [
    "###### 3.Multilevel Inheritance:"
   ]
  },
  {
   "cell_type": "code",
   "execution_count": 9,
   "id": "9b715d4e",
   "metadata": {},
   "outputs": [
    {
     "name": "stdout",
     "output_type": "stream",
     "text": [
      "Eating...\n",
      "Running...\n",
      "Barking...\n"
     ]
    }
   ],
   "source": [
    "class Animal:\n",
    "    def eat(self):\n",
    "        print(\"Eating...\")\n",
    "\n",
    "class Mammal(Animal):\n",
    "    def run(self):\n",
    "        print(\"Running...\")\n",
    "\n",
    "class Dog(Mammal):\n",
    "    def bark(self):\n",
    "        print(\"Barking...\")\n",
    "\n",
    "# Creating an object of the Dog class\n",
    "dog = Dog()\n",
    "\n",
    "# Accessing inherited methods\n",
    "dog.eat()  \n",
    "dog.run()  \n",
    "\n",
    "# Accessing subclass method\n",
    "dog.bark() \n"
   ]
  },
  {
   "cell_type": "markdown",
   "id": "d1c30ea3",
   "metadata": {},
   "source": [
    "##### 4. Hierarchical inheritance:"
   ]
  },
  {
   "cell_type": "code",
   "execution_count": 12,
   "id": "bc0e1579",
   "metadata": {},
   "outputs": [
    {
     "name": "stdout",
     "output_type": "stream",
     "text": [
      "Parent method\n",
      "Child 1 method\n",
      "Parent method\n",
      "Child 2 method\n"
     ]
    }
   ],
   "source": [
    "class ParentClass:\n",
    "    def parent_method(self):\n",
    "        print(\"Parent method\")\n",
    "\n",
    "class ChildClass1(ParentClass):\n",
    "    def child1_method(self):\n",
    "        print(\"Child 1 method\")\n",
    "\n",
    "class ChildClass2(ParentClass):\n",
    "    def child2_method(self):\n",
    "        print(\"Child 2 method\")\n",
    "\n",
    "child1_obj = ChildClass1()\n",
    "child1_obj.parent_method()  \n",
    "child1_obj.child1_method() \n",
    "\n",
    "child2_obj = ChildClass2()\n",
    "child2_obj.parent_method()\n",
    "child2_obj.child2_method() "
   ]
  },
  {
   "cell_type": "markdown",
   "id": "ae8ad596",
   "metadata": {},
   "source": [
    "##### 5. Hybrid inheritance:"
   ]
  },
  {
   "cell_type": "code",
   "execution_count": null,
   "id": "6f74fc1d",
   "metadata": {},
   "outputs": [],
   "source": [
    "class ParentClass1:\n",
    "    def method1(self):\n",
    "        print(\"Method 1\")\n",
    "\n",
    "class ParentClass2:\n",
    "    def method2(self):\n",
    "        print(\"Method 2\")\n",
    "\n",
    "class ChildClass1(ParentClass1, ParentClass2):\n",
    "    def child1_method(self):\n",
    "        print(\"Child 1 method\")\n",
    "\n",
    "class ChildClass2(ParentClass1):\n",
    "    def child2_method(self):\n",
    "        print(\"Child 2 method\")\n",
    "\n",
    "child1_obj = ChildClass1()\n",
    "child1_obj.method1() \n",
    "child1_obj.method2()    \n",
    "child1_obj.child1_method() \n",
    "\n",
    "child2_obj = ChildClass2()\n",
    "child2_obj.method1()   \n",
    "child2_obj.child2_method()  \n"
   ]
  }
 ],
 "metadata": {
  "kernelspec": {
   "display_name": "Python 3 (ipykernel)",
   "language": "python",
   "name": "python3"
  },
  "language_info": {
   "codemirror_mode": {
    "name": "ipython",
    "version": 3
   },
   "file_extension": ".py",
   "mimetype": "text/x-python",
   "name": "python",
   "nbconvert_exporter": "python",
   "pygments_lexer": "ipython3",
   "version": "3.9.13"
  }
 },
 "nbformat": 4,
 "nbformat_minor": 5
}
