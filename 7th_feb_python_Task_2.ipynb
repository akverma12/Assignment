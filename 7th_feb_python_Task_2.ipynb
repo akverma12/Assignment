{
 "cells": [
  {
   "cell_type": "markdown",
   "id": "25050caf",
   "metadata": {},
   "source": [
    "###### Q1. You are writing code for a company. The requirement of the company is that you create a python function that will check whether the password entered by the user is correct or not. The function should take the password as input and return the string “Valid Password” if the entered password follows the below-given password guidelines else it should return “Invalid Password”.\n",
    "###### Note: 1. The Password should contain at least two uppercase letters and at least two lowercase letters.\n",
    "###### 2. The Password should contain at least a number and three special characters.\n",
    "###### 3. The length of the password should be 10 characters long."
   ]
  },
  {
   "cell_type": "code",
   "execution_count": 2,
   "id": "79521154",
   "metadata": {},
   "outputs": [],
   "source": [
    "def check_password(password):\n",
    "    # Check length\n",
    "    if len(password) != 10:\n",
    "        return \"Invalid Password\"\n",
    "\n",
    "    # Check uppercase letters\n",
    "    uppercase_count = 0\n",
    "    for char in password:\n",
    "        if char.isupper():\n",
    "            uppercase_count += 1\n",
    "            if uppercase_count >= 2:\n",
    "                break\n",
    "    if uppercase_count < 2:\n",
    "        return \"Invalid Password\"\n",
    "\n",
    "    # Check lowercase letters\n",
    "    lowercase_count = 0\n",
    "    for char in password:\n",
    "        if char.islower():\n",
    "            lowercase_count += 1\n",
    "            if lowercase_count >= 2:\n",
    "                break\n",
    "    if lowercase_count < 2:\n",
    "        return \"Invalid Password\"\n",
    "\n",
    "    # Check numbers\n",
    "    has_number = False\n",
    "    for char in password:\n",
    "        if char.isdigit():\n",
    "            has_number = True\n",
    "            break\n",
    "    if not has_number:\n",
    "        return \"Invalid Password\"\n",
    "\n",
    "    # Check special characters\n",
    "    special_count = 0\n",
    "    special_characters = \"!@#$%^&*()_+{}[]|\\\\:;\\\"'<>,.?/~`\"\n",
    "    for char in password:\n",
    "        if char in special_characters:\n",
    "            special_count += 1\n",
    "            if special_count >= 3:\n",
    "                break\n",
    "    if special_count < 3:\n",
    "        return \"Invalid Password\"\n",
    "\n",
    "    return \"Valid Password\"\n"
   ]
  },
  {
   "cell_type": "code",
   "execution_count": 8,
   "id": "5e94222d",
   "metadata": {},
   "outputs": [
    {
     "name": "stdout",
     "output_type": "stream",
     "text": [
      "Enter the only 10 characters long password contain \n",
      " at least two uppercase letters and \n",
      " at least two lowercase letters, \n",
      " at least a number and three special characters.Aahs\n",
      "Invalid Password\n",
      "Enter the only 10 characters long password contain \n",
      " at least two uppercase letters and \n",
      " at least two lowercase letters, \n",
      " at least a number and three special characters.AAyush@@@1\n",
      "Valid Password\n"
     ]
    }
   ],
   "source": [
    "while True:\n",
    "    password =input(\"Enter the only 10 characters long password contain \\n at least two uppercase letters and \\n at least two lowercase letters, \\n at least a number and three special characters.\")\n",
    "    \n",
    "    if check_password(password)== \"Valid Password\":\n",
    "        print(check_password(password)) \n",
    "        break\n",
    "    else:\n",
    "        print(check_password(password)) \n",
    "  \n"
   ]
  },
  {
   "cell_type": "markdown",
   "id": "6d3e33a5",
   "metadata": {},
   "source": [
    "###### Q2. Solve the below-given questions using at least one of the following: \n",
    "\n",
    "1. Lambda function\n",
    "2. Filter function\n",
    "3. Zap function\n",
    "4. List Comprehension\n",
    "###### Check if the string starts with a particular letter\n",
    "###### Check if the string is numeric\n",
    "###### Sort a list of tuples having fruit names and their quantity. [(\"mango\",99),(\"orange\",80), (\"grapes\", 1000)]\n",
    "###### Find the squares of numbers from 1 to 10\n",
    "###### Find the cube root of numbers from 1 to 10\n",
    "###### Check if a given number is even\n",
    "###### Filter odd numbers from the given list.\n",
    "[1,2,3,4,5,6,7,8,9,10]\n",
    "###### Sort a list of integers into positive and negative integers lists.\n",
    "[1,2,3,4,5,6,-1,-2,-3,-4,-5,0]"
   ]
  },
  {
   "cell_type": "code",
   "execution_count": 9,
   "id": "e0372293",
   "metadata": {},
   "outputs": [
    {
     "name": "stdout",
     "output_type": "stream",
     "text": [
      "True\n"
     ]
    }
   ],
   "source": [
    "string = \"Hello, World!\"\n",
    "letter = \"H\"\n",
    "result = lambda s, l: s[0] == l\n",
    "print(result(string, letter))\n"
   ]
  },
  {
   "cell_type": "code",
   "execution_count": 16,
   "id": "33877429",
   "metadata": {},
   "outputs": [
    {
     "name": "stdout",
     "output_type": "stream",
     "text": [
      "True\n"
     ]
    }
   ],
   "source": [
    "is_numeric = lambda s: s.isnumeric()\n",
    "\n",
    "string = \"12345\"\n",
    "result = is_numeric(string)\n",
    "print(result)\n"
   ]
  },
  {
   "cell_type": "code",
   "execution_count": 17,
   "id": "f08dcd69",
   "metadata": {},
   "outputs": [
    {
     "name": "stdout",
     "output_type": "stream",
     "text": [
      "[('orange', 80), ('mango', 99), ('grapes', 1000)]\n"
     ]
    }
   ],
   "source": [
    "fruits = [(\"mango\", 99), (\"orange\", 80), (\"grapes\", 1000)]\n",
    "\n",
    "sorted_fruits = sorted(fruits, key=lambda x: x[1])\n",
    "\n",
    "print(sorted_fruits)"
   ]
  },
  {
   "cell_type": "code",
   "execution_count": 19,
   "id": "8efa6e72",
   "metadata": {},
   "outputs": [
    {
     "name": "stdout",
     "output_type": "stream",
     "text": [
      "[1, 4, 9, 16, 25, 36, 49, 64, 81, 100]\n"
     ]
    }
   ],
   "source": [
    "squares = [x**2 for x in range(1, 11)]\n",
    "print(squares) "
   ]
  },
  {
   "cell_type": "code",
   "execution_count": 14,
   "id": "1717738b",
   "metadata": {},
   "outputs": [
    {
     "name": "stdout",
     "output_type": "stream",
     "text": [
      "[1.0, 1.2599210498948732, 1.4422495703074083, 1.5874010519681994, 1.7099759466766968, 1.8171205928321397, 1.912931182772389, 2.0, 2.080083823051904, 2.154434690031884]\n"
     ]
    }
   ],
   "source": [
    "import math\n",
    "cube_roots = [math.pow(x, 1/3) for x in range(1, 11)]\n",
    "print(cube_roots) \n"
   ]
  },
  {
   "cell_type": "code",
   "execution_count": 10,
   "id": "5b19e450",
   "metadata": {},
   "outputs": [
    {
     "name": "stdout",
     "output_type": "stream",
     "text": [
      "True\n"
     ]
    }
   ],
   "source": [
    "number = 10\n",
    "result = lambda x: x % 2 == 0\n",
    "print(result(number))\n"
   ]
  },
  {
   "cell_type": "code",
   "execution_count": 11,
   "id": "df58b5e2",
   "metadata": {},
   "outputs": [
    {
     "name": "stdout",
     "output_type": "stream",
     "text": [
      "[1, 3, 5, 7, 9]\n"
     ]
    }
   ],
   "source": [
    "numbers = [1, 2, 3, 4, 5, 6, 7, 8, 9, 10]\n",
    "odd_numbers = list(filter(lambda x: x % 2 != 0, numbers))\n",
    "print(odd_numbers)  \n"
   ]
  },
  {
   "cell_type": "code",
   "execution_count": 20,
   "id": "0919983b",
   "metadata": {},
   "outputs": [
    {
     "name": "stdout",
     "output_type": "stream",
     "text": [
      "Positive numbers: [1, 2, 3, 4, 5, 6]\n",
      "Negative numbers: [-1, -2, -3, -4, -5]\n"
     ]
    }
   ],
   "source": [
    "numbers = [1, 2, 3, 4, 5, 6, -1, -2, -3, -4, -5, 0]\n",
    "\n",
    "positive_numbers = list(filter(lambda x: x > 0, numbers))\n",
    "negative_numbers = list(filter(lambda x: x < 0, numbers))\n",
    "\n",
    "print(\"Positive numbers:\", positive_numbers)\n",
    "print(\"Negative numbers:\", negative_numbers)\n"
   ]
  }
 ],
 "metadata": {
  "kernelspec": {
   "display_name": "Python 3 (ipykernel)",
   "language": "python",
   "name": "python3"
  },
  "language_info": {
   "codemirror_mode": {
    "name": "ipython",
    "version": 3
   },
   "file_extension": ".py",
   "mimetype": "text/x-python",
   "name": "python",
   "nbconvert_exporter": "python",
   "pygments_lexer": "ipython3",
   "version": "3.9.13"
  }
 },
 "nbformat": 4,
 "nbformat_minor": 5
}
