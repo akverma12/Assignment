{
 "cells": [
  {
   "cell_type": "markdown",
   "id": "2ee5f9ec",
   "metadata": {},
   "source": [
    "##### 1. Who developed Python Programming Language?\n",
    "Python programming language was developed by Guido van Rossum.\n",
    "\n",
    "##### 2. Which type of Programming does Python support?\n",
    "Python supports multiple programming paradigms, including procedural, object-oriented, and functional programming.\n",
    "##### 3. Is Python case sensitive when dealing with identifiers?\n",
    "Yes, Python is case sensitive when dealing with identifiers. For example, \"myVariable\" and \"myvariable\" would be considered as two different identifiers.\n",
    "##### 4. What is the correct extension of the Python file?\n",
    "The correct extension for a Python file is \".py\". For example, \"my_program.py\".\n",
    "##### 5. Is Python code compiled or interpreted?\n",
    "Python code is interpreted. It is executed line by line by the Python interpreter without the need for explicit compilation.\n",
    "##### 6. Name a few blocks of code used to define in Python language?\n",
    " Some common blocks of code used in Python are:\n",
    "   - Functions\n",
    "   - Classes\n",
    "   - Loops (e.g., for and while loops)\n",
    "   - Conditional statements (e.g., if-else statements)\n",
    "   - Exception handling blocks (try-except blocks)\n",
    "\n",
    "##### 7. State a character used to give single-line comments in Python?\n",
    "The character '#' is used to give single-line comments in Python.\n",
    "##### 8. Mention functions which can help us to find the version of python that we are currently working on?\n",
    "The functions `sys.version` or `platform.python_version()` can be used to find the version of Python you are currently working on\n",
    "##### 9. Python supports the creation of anonymous functions at runtime, using a construct called\n",
    " Python supports the creation of anonymous functions at runtime using a construct called \"lambda functions.\n",
    "##### 10. What does pip stand for python?\n",
    "\"pip\" stands for \"pip installs packages\" or \"preferred installer program.\" It is a package management system in Python used to install and manage software packages written in Python.\n",
    "##### 11. Mention a few built-in functions in python?\n",
    " Python has numerous built-in functions, including:\n",
    "    - `print()`: Used to print output to the console.\n",
    "    - `len()`: Returns the length of an object, such as a string or list.\n",
    "    - `type()`: Returns the type of an object.\n",
    "    - `input()`: Reads input from the user.\n",
    "    - `range()`: Generates a sequence of numbers.\n",
    "    - `sum()`: Calculates the sum of elements in an iterable.\n",
    "    - `str()`, `int()`, `float()`: Convert values to string, integer, and float types, respectively.\n",
    "##### 12. What is the maximum possible length of an identifier in Python?\n",
    "In Python, the maximum possible length of an identifier is 255 characters.\n",
    "##### 13. What are the benefits of using Python?\n",
    " Benefits of using Python include:\n",
    "    - Readability and simplicity of the language syntax.\n",
    "    - Large standard library with many pre-built modules and functions.\n",
    "    - Cross-platform compatibility.\n",
    "    - Extensive community support and a vast ecosystem of third-party libraries.\n",
    "    - Integration capabilities with other languages.\n",
    "    - Suitable for various domains, including web development, data analysis, artificial intelligence, etc.\n",
    "\n",
    "##### 14. How is memory managed in Python?\n",
    "Memory management in Python is handled automatically by a mechanism called \"garbage collection.\" Python uses a combination of reference counting and a cycle-detection algorithm to reclaim memory that is no longer in use.\n",
    "##### 15. How to install Python on Windows and set path variables?\n",
    "To install Python on Windows and set path variables, you can follow these steps:\n",
    "    1. Visit the official Python website (python.org) and download the latest Python installer for Windows.\n",
    "    2. Run the installer and select the option to \"Add Python to PATH\" during the installation process.\n",
    "    3. Follow the on-screen instructions to complete the installation.\n",
    "    4. After installation, open the command prompt and type \"python\" to verify that Python is installed and accessible from the command line.\n",
    "    5. The path variables should be set automatically during the installation process. You can verify this by typing \"python\" in the command prompt from any directory.\n",
    "##### 16. Is indentation required in python?\n",
    "Yes, indentation is required in Python. It is used to define the structure and scope of code blocks, such as functions, loops, and conditional statements. Incorrect indentation can lead to syntax errors in Python."
   ]
  },
  {
   "cell_type": "code",
   "execution_count": null,
   "id": "afbf9d7f",
   "metadata": {},
   "outputs": [],
   "source": []
  }
 ],
 "metadata": {
  "kernelspec": {
   "display_name": "Python 3 (ipykernel)",
   "language": "python",
   "name": "python3"
  },
  "language_info": {
   "codemirror_mode": {
    "name": "ipython",
    "version": 3
   },
   "file_extension": ".py",
   "mimetype": "text/x-python",
   "name": "python",
   "nbconvert_exporter": "python",
   "pygments_lexer": "ipython3",
   "version": "3.9.13"
  }
 },
 "nbformat": 4,
 "nbformat_minor": 5
}
