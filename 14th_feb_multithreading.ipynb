{
 "cells": [
  {
   "cell_type": "markdown",
   "id": "6946831a",
   "metadata": {},
   "source": [
    "##### Q1 : what is multithreading in python? why is it used? Name the module used to handle threads in python"
   ]
  },
  {
   "cell_type": "markdown",
   "id": "eeadeaf3",
   "metadata": {},
   "source": [
    "##### \n",
    "Multithreading in Python refers to the ability of a program to simultaneously execute multiple threads of execution within a single process. A thread is a separate sequence of instructions that can run independently and share the same resources (such as memory) with other threads within the same process. Multithreading allows for concurrent execution and can improve the efficiency and responsiveness of a program.\n",
    "\n",
    "Threads are beneficial in scenarios where tasks can be performed concurrently or when certain operations, such as I/O operations or network requests, can benefit from running in the background while the main thread continues with other tasks.\n",
    "\n",
    "In Python, the `threading` module is used to handle threads. It provides a high-level interface for creating and managing threads. The `threading` module allows you to create threads, start them, synchronize their execution using locks or other synchronization primitives, and handle communication between threads.\n",
    "\n",
    "Here's a simple example that demonstrates the use of multithreading in Python:\n",
    "\n",
    "\n"
   ]
  },
  {
   "cell_type": "code",
   "execution_count": 1,
   "id": "6aa47577",
   "metadata": {},
   "outputs": [
    {
     "name": "stdout",
     "output_type": "stream",
     "text": [
      "Thread 1: 1\n",
      "Main Thread: 1\n",
      "Thread 1: 2\n",
      "Main Thread: 2\n",
      "Thread 1: 3\n",
      "Main Thread: 3\n",
      "Thread 1: 4\n",
      "Main Thread: 4\n",
      "Thread 1: 5\n",
      "Main Thread: 5\n",
      "Done\n"
     ]
    }
   ],
   "source": [
    "import threading\n",
    "import time\n",
    "\n",
    "# Function to be executed in a thread\n",
    "def print_numbers():\n",
    "    for i in range(1, 6):\n",
    "        print(f\"Thread 1: {i}\")\n",
    "        time.sleep(0.5)\n",
    "\n",
    "# Create a thread\n",
    "thread1 = threading.Thread(target=print_numbers)\n",
    "\n",
    "# Start the thread\n",
    "thread1.start()\n",
    "\n",
    "# Main thread continues execution\n",
    "for i in range(1, 6):\n",
    "    print(f\"Main Thread: {i}\")\n",
    "    time.sleep(0.6)\n",
    "\n",
    "# Wait for the thread to complete\n",
    "thread1.join()\n",
    "\n",
    "print(\"Done\")\n"
   ]
  },
  {
   "cell_type": "markdown",
   "id": "6e54d81f",
   "metadata": {},
   "source": [
    "##### \n",
    "In this example, we create a thread named `thread1` using the `Thread` class from the `threading` module. The `print_numbers()` function represents the code that will be executed in the thread. We start the thread using `thread1.start()`.\n",
    "\n",
    "Meanwhile, the main thread continues executing its own code in the `for` loop. Both the main thread and the `print_numbers()` function execute concurrently.\n",
    "\n",
    "By using multithreading, we can achieve parallel execution of multiple tasks, making the program more efficient and responsive.\n",
    "\n",
    "Remember that multithreading introduces complexities such as potential race conditions and the need for synchronization mechanisms, like locks, to ensure thread safety. Proper care should be taken when using multithreading to handle shared resources to avoid issues like data corruption or inconsistencies."
   ]
  },
  {
   "cell_type": "markdown",
   "id": "287014ae",
   "metadata": {},
   "source": [
    "##### Q2. Why threading module used? write the use of the following functions.\n",
    " activeCount(),\n",
    " currentThread(),\n",
    " enumerate()"
   ]
  },
  {
   "cell_type": "markdown",
   "id": "f6f2c0a9",
   "metadata": {},
   "source": [
    "##### \n",
    "The `threading` module in Python is used to handle threads and provides a high-level interface for creating and managing threads. It is commonly used when you want to achieve concurrent execution, improve program efficiency, and handle tasks that can be performed simultaneously.\n",
    "\n",
    "Here are the uses of some important functions provided by the `threading` module:\n",
    "\n"
   ]
  },
  {
   "cell_type": "markdown",
   "id": "f035c67a",
   "metadata": {},
   "source": [
    "###### 1. `active_count()`:\n",
    "The `active_count()` function returns the number of currently alive (running) threads. Here's an example:\n",
    "\n"
   ]
  },
  {
   "cell_type": "code",
   "execution_count": 2,
   "id": "c485c1b8",
   "metadata": {},
   "outputs": [
    {
     "name": "stdout",
     "output_type": "stream",
     "text": [
      "Thread started\n",
      "Thread started\n",
      "Number of active threads: 6\n"
     ]
    }
   ],
   "source": [
    "import threading\n",
    "\n",
    "def my_function():\n",
    "    print(\"Thread started\")\n",
    "\n",
    "# Create threads\n",
    "thread1 = threading.Thread(target=my_function)\n",
    "thread2 = threading.Thread(target=my_function)\n",
    "\n",
    "# Start threads\n",
    "thread1.start()\n",
    "thread2.start()\n",
    "\n",
    "# Get the number of active threads\n",
    "active_threads = threading.active_count()\n",
    "print(\"Number of active threads:\", active_threads)\n"
   ]
  },
  {
   "cell_type": "markdown",
   "id": "37a71af8",
   "metadata": {},
   "source": [
    "###### 2. current_thread()\n",
    "The `current_thread()` function returns the current thread object. Here's an example:\n",
    "\n",
    "\n",
    "\n",
    "\n"
   ]
  },
  {
   "cell_type": "code",
   "execution_count": 3,
   "id": "c6dc7ff8",
   "metadata": {},
   "outputs": [
    {
     "name": "stdout",
     "output_type": "stream",
     "text": [
      "Current Thread: Thread-8\n"
     ]
    }
   ],
   "source": [
    "import threading\n",
    "\n",
    "def print_current_thread():\n",
    "    current_thread = threading.current_thread()\n",
    "    print(\"Current Thread:\", current_thread.name)\n",
    "\n",
    "# Create and start a thread\n",
    "thread1 = threading.Thread(target=print_current_thread)\n",
    "thread1.start()\n"
   ]
  },
  {
   "cell_type": "markdown",
   "id": "39e35175",
   "metadata": {},
   "source": [
    "###### 3. enumerate():\n",
    "The `enumerate()` function returns a list of all currently alive thread objects. Here's an example:"
   ]
  },
  {
   "cell_type": "code",
   "execution_count": 4,
   "id": "3448dc28",
   "metadata": {},
   "outputs": [
    {
     "name": "stdout",
     "output_type": "stream",
     "text": [
      "Alive Thread: MainThread\n",
      "Alive Thread: IOPub\n",
      "Alive Thread: Heartbeat\n",
      "Alive Thread: Control\n",
      "Alive Thread: IPythonHistorySavingThread\n",
      "Alive Thread: Thread-4\n",
      "Alive Thread: Thread-9\n",
      "Alive Thread: Thread-10\n"
     ]
    }
   ],
   "source": [
    "import threading\n",
    "import time\n",
    "\n",
    "def my_function():\n",
    "    time.sleep(1)\n",
    "\n",
    "# Create threads\n",
    "thread1 = threading.Thread(target=my_function)\n",
    "thread2 = threading.Thread(target=my_function)\n",
    "\n",
    "# Start threads\n",
    "thread1.start()\n",
    "thread2.start()\n",
    "\n",
    "# Get a list of all alive threads\n",
    "alive_threads = threading.enumerate()\n",
    "\n",
    "# Print the names of all alive threads\n",
    "for thread in alive_threads:\n",
    "    print(\"Alive Thread:\", thread.name)\n"
   ]
  },
  {
   "cell_type": "markdown",
   "id": "91631b3b",
   "metadata": {},
   "source": [
    "###### Q3. Explain the following functions.\n",
    "1. run()\n",
    "2. start()\n",
    "3. join()\n",
    "4. isAlive()\n"
   ]
  },
  {
   "cell_type": "markdown",
   "id": "60e47ce0",
   "metadata": {},
   "source": [
    "###### \n",
    "Certainly! Here's an explanation of the functions `run()`, `start()`, `join()`, and `isAlive()` in the context of thread execution in Python:\n",
    "\n",
    "1. `run()`:\n",
    "The `run()` method is the entry point for the thread's activity. It contains the code that will be executed when the thread is started. You can override this method in a subclass of `threading.Thread` to define the specific behavior of the thread. However, it's important to note that you should not call `run()` directly. Instead, use the `start()` method to launch the thread.\n",
    "\n",
    "2. `start()`:\n",
    "The `start()` method is used to start the execution of a thread. When `start()` is called, a new thread of execution is created, and the `run()` method of the thread is invoked in that new thread. This method initiates the concurrent execution of the thread and allows it to run independently. It should only be called once for each thread object.\n",
    "\n",
    "3. `join()`:\n",
    "The `join()` method is used to wait for a thread to complete its execution. When you call `join()` on a thread, the calling thread will be blocked and won't proceed until the target thread finishes executing. This method is typically used to synchronize the main thread with other threads. By waiting for a thread to complete using `join()`, you can ensure that the main thread doesn't proceed until the target thread has finished its task.\n",
    "\n",
    "4. `isAlive()`:\n",
    "The `isAlive()` method is used to check if a thread is currently alive (running). It returns `True` if the thread is alive and executing, and `False` otherwise. This method is helpful when you want to determine the status of a thread, especially when working with multiple threads. By checking the `isAlive()` status, you can make decisions based on whether a thread is still running or has completed its execution.\n",
    "\n",
    "Here's a code snippet that demonstrates the use of these functions:\n"
   ]
  },
  {
   "cell_type": "code",
   "execution_count": 5,
   "id": "cc36e336",
   "metadata": {},
   "outputs": [
    {
     "name": "stdout",
     "output_type": "stream",
     "text": [
      "Thread started\n"
     ]
    }
   ],
   "source": [
    "import threading\n",
    "\n",
    "class MyThread(threading.Thread):\n",
    "    def run(self):\n",
    "        print(\"Thread started\")\n",
    "\n",
    "# Create a thread object\n",
    "thread = MyThread()\n",
    "\n",
    "# Call the run() method directly\n",
    "thread.run()\n"
   ]
  },
  {
   "cell_type": "code",
   "execution_count": 6,
   "id": "84e783ab",
   "metadata": {},
   "outputs": [
    {
     "name": "stdout",
     "output_type": "stream",
     "text": [
      "Thread started\n",
      "Main thread continues executing\n"
     ]
    }
   ],
   "source": [
    "import threading\n",
    "import time\n",
    "\n",
    "def my_function():\n",
    "    print(\"Thread started\")\n",
    "    time.sleep(2)\n",
    "    print(\"Thread finished\")\n",
    "\n",
    "# Create a thread\n",
    "thread = threading.Thread(target=my_function)\n",
    "\n",
    "# Start the thread\n",
    "thread.start()\n",
    "\n",
    "# Main thread continues executing\n",
    "print(\"Main thread continues executing\")\n"
   ]
  },
  {
   "cell_type": "code",
   "execution_count": 7,
   "id": "724e81c6",
   "metadata": {},
   "outputs": [
    {
     "name": "stdout",
     "output_type": "stream",
     "text": [
      "Thread started\n",
      "Thread finished\n",
      "Thread finished\n",
      "Main thread continues executing\n"
     ]
    }
   ],
   "source": [
    "import threading\n",
    "import time\n",
    "\n",
    "def my_function():\n",
    "    print(\"Thread started\")\n",
    "    time.sleep(2)\n",
    "    print(\"Thread finished\")\n",
    "\n",
    "# Create a thread\n",
    "thread = threading.Thread(target=my_function)\n",
    "\n",
    "# Start the thread\n",
    "thread.start()\n",
    "\n",
    "# Main thread waits for the thread to complete using join()\n",
    "thread.join()\n",
    "\n",
    "print(\"Main thread continues executing\")"
   ]
  },
  {
   "cell_type": "code",
   "execution_count": 8,
   "id": "fceec69b",
   "metadata": {},
   "outputs": [
    {
     "name": "stdout",
     "output_type": "stream",
     "text": [
      "Thread started\n",
      "Is the thread alive? True\n",
      "Thread finished\n",
      "Is the thread alive? False\n"
     ]
    }
   ],
   "source": [
    "import threading\n",
    "import time\n",
    "\n",
    "def my_function():\n",
    "    print(\"Thread started\")\n",
    "    time.sleep(2)\n",
    "    print(\"Thread finished\")\n",
    "\n",
    "# Create a thread\n",
    "thread = threading.Thread(target=my_function)\n",
    "\n",
    "# Start the thread\n",
    "thread.start()\n",
    "\n",
    "# Check if the thread is alive\n",
    "print(\"Is the thread alive?\", thread.is_alive())\n",
    "\n",
    "# Wait for the thread to complete using join()\n",
    "thread.join()\n",
    "\n",
    "# Check if the thread is alive after joining\n",
    "print(\"Is the thread alive?\", thread.is_alive())\n"
   ]
  },
  {
   "cell_type": "markdown",
   "id": "9f7fd67e",
   "metadata": {},
   "source": [
    "#####  Q4. Write a python program to create two threads. Thread one must print the list of squares and thread two must print the list of cubes."
   ]
  },
  {
   "cell_type": "code",
   "execution_count": 12,
   "id": "47e8a57d",
   "metadata": {
    "scrolled": true
   },
   "outputs": [
    {
     "name": "stdout",
     "output_type": "stream",
     "text": [
      "enter range of list=3\n",
      "Enter num with index 0= 12\n",
      "Enter num with index 1= 243\n",
      "Enter num with index 2= 25\n",
      "Cube of 12: 1728\n",
      "Cube of 243: 14348907\n",
      "Cube of 25: 15625\n",
      "Square of 12: 144\n",
      "Square of 243: 59049\n",
      "Square of 25: 625\n",
      "Done\n",
      "Done\n"
     ]
    }
   ],
   "source": [
    "import threading\n",
    "import time\n",
    "\n",
    "def print_squares(numbers):\n",
    "    for num in numbers:\n",
    "        square = num ** 2\n",
    "        time.sleep(2)\n",
    "        print(f\"Square of {num}: {square}\")\n",
    "        \n",
    "\n",
    "def print_cubes(numbers):\n",
    "    for num in numbers:\n",
    "        cube = num ** 3\n",
    "        print(f\"Cube of {num}: {cube}\")\n",
    "       \n",
    "\n",
    "# Numbers to calculate squares and cubes\n",
    "r=int(input('enter range of list='))\n",
    "numbers=[]\n",
    "for i in range(r):\n",
    "    numbers.append(int(input(f'Enter num with index {i}= ')))\n",
    "\n",
    "# Create threads\n",
    "thread1 = threading.Thread(target=print_squares, args=(numbers,))\n",
    "thread2 = threading.Thread(target=print_cubes, args=(numbers,))\n",
    "\n",
    "# Start threads\n",
    "thread1.start()\n",
    "thread2.start()\n",
    "\n",
    "# Wait for both threads to complete\n",
    "thread1.join()\n",
    "print(\"Done\")\n",
    "thread2.join()\n",
    "\n",
    "print(\"Done\")\n"
   ]
  },
  {
   "cell_type": "markdown",
   "id": "5bb6345c",
   "metadata": {},
   "source": [
    "### Q5. State advantages and disadvantages of multithreading."
   ]
  },
  {
   "cell_type": "markdown",
   "id": "5dae6c9d",
   "metadata": {},
   "source": [
    "###### \n",
    "Multithreading, the concurrent execution of multiple threads within a single process, offers several advantages and disadvantages. Let's explore them:\n",
    "\n",
    "Advantages of Multithreading:\n",
    "\n",
    "1. Improved Responsiveness: Multithreading allows programs to remain responsive even when performing time-consuming tasks. By executing tasks concurrently in separate threads, the application can continue to handle user input or perform other operations.\n",
    "\n",
    "2. Enhanced Performance: Multithreading can improve performance by utilizing available system resources more efficiently. It allows multiple threads to execute simultaneously on multicore processors, taking advantage of parallel processing capabilities.\n",
    "\n",
    "3. Resource Sharing: Threads within a process share the same memory space, enabling efficient communication and data sharing. This can be advantageous when multiple threads need access to shared data structures or resources.\n",
    "\n",
    "4. Simplified Design: Multithreading can simplify the design and organization of complex programs. By dividing tasks into separate threads, each responsible for a specific aspect, the overall program structure can become more modular and easier to understand.\n",
    "\n",
    "5. Responsiveness in I/O Operations: Multithreading is particularly beneficial when performing I/O operations, such as reading from or writing to files or network sockets. While one thread is waiting for I/O to complete, other threads can continue executing, maximizing overall efficiency.\n",
    "\n",
    "Disadvantages of Multithreading:\n",
    "\n",
    "1. Complexity: Multithreaded programming introduces additional complexity compared to single-threaded programs. Issues such as race conditions, deadlocks, and synchronization errors may arise, requiring careful design and debugging.\n",
    "\n",
    "2. Synchronization Overhead: When multiple threads access shared resources, synchronization mechanisms like locks or semaphores must be used to ensure data integrity. These mechanisms introduce overhead due to acquiring and releasing locks, potentially affecting performance.\n",
    "\n",
    "3. Difficult Debugging: Debugging multithreaded programs can be challenging, especially when race conditions or synchronization errors occur. The non-deterministic nature of thread execution can make it difficult to reproduce and diagnose such issues.\n",
    "\n",
    "4. Increased Memory Usage: Each thread requires its own stack space to maintain its execution context. In applications with a large number of threads, memory usage can increase significantly, potentially impacting overall system performance.\n",
    "\n",
    "5. Scalability Limitations: While multithreading can enhance performance on multicore processors, there is a limit to the benefits gained. As the number of threads increases, the overhead of managing and scheduling threads can reduce performance due to increased context switching and contention for resources.\n",
    "\n",
    "It is important to carefully weigh the advantages and disadvantages of multithreading when deciding whether to use it in a particular application. Consider the specific requirements, characteristics, and constraints of your program to determine whether multithreading is suitable and how to manage its complexities effectively."
   ]
  },
  {
   "cell_type": "markdown",
   "id": "c915ef1b",
   "metadata": {},
   "source": [
    "### Q6. Explain deadlocks and race conditions."
   ]
  },
  {
   "cell_type": "markdown",
   "id": "a92f8481",
   "metadata": {},
   "source": [
    "###### \n",
    "Certainly! Deadlocks and race conditions are two common synchronization issues that can occur in multithreaded programs. Let's explain each of them:\n",
    "\n",
    "1. Deadlocks:\n",
    "A deadlock is a situation where two or more threads are unable to proceed because each is waiting for a resource that another thread holds. In other words, the threads are stuck in a circular dependency, preventing any further progress.\n",
    "\n",
    "Deadlocks typically occur due to the following four conditions being met simultaneously:\n",
    "- Mutual Exclusion: At least one resource must be held in a mutually exclusive manner, meaning only one thread can access it at a time.\n",
    "- Hold and Wait: A thread holding a resource waits to acquire another resource while still holding the first resource.\n",
    "- No Preemption: Resources cannot be forcibly taken away from a thread; they must be released voluntarily.\n",
    "- Circular Wait: There is a circular chain of two or more threads, where each thread is waiting for a resource held by another thread in the chain.\n",
    "\n",
    "To prevent deadlocks, it is important to carefully manage resource allocation, avoid circular dependencies, and ensure that threads release resources they no longer need in a timely manner.\n",
    "\n",
    "2. Race Conditions:\n",
    "A race condition occurs when the behavior or outcome of a program depends on the relative timing or interleaving of multiple threads. It arises when multiple threads access shared resources or data simultaneously, leading to unexpected and undesirable results.\n",
    "\n",
    "Race conditions can manifest in various ways, such as:\n",
    "- Read-Modify-Write: When multiple threads read a shared value, modify it, and write it back, the final value may be incorrect if threads interleave unpredictably.\n",
    "- Unprotected Shared Data: When multiple threads simultaneously access and modify a shared data structure without proper synchronization, data corruption or inconsistent results may occur.\n",
    "- Incorrect Order of Operations: When the correctness of a computation depends on the order in which threads execute certain operations, an incorrect order due to thread interleaving can lead to errors.\n",
    "\n",
    "To mitigate race conditions, synchronization mechanisms like locks, semaphores, or atomic operations should be used to ensure mutually exclusive access to shared resources. Proper synchronization ensures that only one thread can access a critical section of code or data at a time, preventing race conditions.\n",
    "\n",
    "Both deadlocks and race conditions are synchronization issues that can lead to program instability, incorrect results, or even program crashes. It is important to carefully design and implement synchronization mechanisms to prevent these issues in multithreaded programs."
   ]
  },
  {
   "cell_type": "markdown",
   "id": "ce9f2a52",
   "metadata": {},
   "source": [
    "### 1. Deadlocks"
   ]
  },
  {
   "cell_type": "code",
   "execution_count": 15,
   "id": "859e07c8",
   "metadata": {},
   "outputs": [
    {
     "name": "stdout",
     "output_type": "stream",
     "text": [
      "Thread 1 acquired resource 1\n",
      "Thread 1 acquired resource 2\n",
      "Thread 2 acquired resource 2\n",
      "Thread 2 acquired resource 1\n",
      "Done\n"
     ]
    }
   ],
   "source": [
    "import threading\n",
    "\n",
    "# Two resources\n",
    "resource1 = threading.Lock()\n",
    "resource2 = threading.Lock()\n",
    "\n",
    "# Thread 1 function\n",
    "def thread1_function():\n",
    "    resource1.acquire()\n",
    "    print(\"Thread 1 acquired resource 1\")\n",
    "    resource2.acquire()\n",
    "    print(\"Thread 1 acquired resource 2\")\n",
    "    # Do some work\n",
    "    resource2.release()\n",
    "    resource1.release()\n",
    "\n",
    "# Thread 2 function\n",
    "def thread2_function():\n",
    "    resource2.acquire()\n",
    "    print(\"Thread 2 acquired resource 2\")\n",
    "    resource1.acquire()\n",
    "    print(\"Thread 2 acquired resource 1\")\n",
    "    # Do some work\n",
    "    resource1.release()\n",
    "    resource2.release()\n",
    "\n",
    "# Create and start threads\n",
    "thread1 = threading.Thread(target=thread1_function)\n",
    "thread2 = threading.Thread(target=thread2_function)\n",
    "thread1.start()\n",
    "thread2.start()\n",
    "thread1.join()\n",
    "thread2.join()\n",
    "\n",
    "print(\"Done\")\n",
    "\n"
   ]
  },
  {
   "cell_type": "markdown",
   "id": "bb5d8052",
   "metadata": {},
   "source": [
    "### 2. Race Condition Example:"
   ]
  },
  {
   "cell_type": "code",
   "execution_count": 14,
   "id": "e766f2eb",
   "metadata": {},
   "outputs": [
    {
     "name": "stdout",
     "output_type": "stream",
     "text": [
      "Final counter value: 1048339\n"
     ]
    }
   ],
   "source": [
    "import threading\n",
    "\n",
    "# Shared variable\n",
    "counter = 0\n",
    "\n",
    "# Function to increment the counter\n",
    "def increment():\n",
    "    global counter\n",
    "    for _ in range(1000000):\n",
    "        counter += 1\n",
    "\n",
    "# Create and start threads\n",
    "thread1 = threading.Thread(target=increment)\n",
    "thread2 = threading.Thread(target=increment)\n",
    "thread1.start()\n",
    "thread2.start()\n",
    "thread1.join()\n",
    "thread2.join()\n",
    "\n",
    "print(\"Final counter value:\", counter)\n"
   ]
  },
  {
   "cell_type": "markdown",
   "id": "bee096ed",
   "metadata": {},
   "source": [
    "#### NOTE:-\n",
    "The term `threading.Lock()` refers to a class provided by the `threading` module in Python. It represents a simple lock object that can be used for synchronization purposes in multithreaded programs.\n",
    "\n",
    "A lock, short for \"mutex\" (mutual exclusion), is a synchronization primitive that allows threads to coordinate and control access to shared resources. It ensures that only one thread can acquire the lock at a time, while other threads that attempt to acquire the lock are blocked until it becomes available.\n",
    "\n",
    "The `threading.Lock()` class provides a way to create a lock object that can be used by threads to control access to critical sections of code or shared resources. Here's an example demonstrating the usage of `threading.Lock()`:\n",
    "\n",
    "By using locks, you can ensure that shared resources or critical sections of code are accessed and modified in a thread-safe manner, preventing race conditions and maintaining data integrity in multithreaded programs.\n",
    "\n",
    "Note: It is important to use locks judiciously and ensure that they are acquired and released properly to avoid potential deadlocks or other synchronization issues."
   ]
  }
 ],
 "metadata": {
  "kernelspec": {
   "display_name": "Python 3 (ipykernel)",
   "language": "python",
   "name": "python3"
  },
  "language_info": {
   "codemirror_mode": {
    "name": "ipython",
    "version": 3
   },
   "file_extension": ".py",
   "mimetype": "text/x-python",
   "name": "python",
   "nbconvert_exporter": "python",
   "pygments_lexer": "ipython3",
   "version": "3.9.13"
  }
 },
 "nbformat": 4,
 "nbformat_minor": 5
}
