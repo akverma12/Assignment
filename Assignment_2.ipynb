{
 "cells": [
  {
   "cell_type": "markdown",
   "id": "03cac624",
   "metadata": {},
   "source": [
    "##### Q1. Which keyword is used to create a function? Create a function to return a list of odd numbers in the range of 1 to 25."
   ]
  },
  {
   "cell_type": "code",
   "execution_count": 4,
   "id": "913c8f2f",
   "metadata": {},
   "outputs": [
    {
     "name": "stdout",
     "output_type": "stream",
     "text": [
      "[1, 3, 5, 7, 9, 11, 13, 15, 17, 19, 21, 23, 25]\n"
     ]
    }
   ],
   "source": [
    "\n",
    "def get_odd_numbers():\n",
    "    odd_numbers = []\n",
    "    for num in range(1, 26):\n",
    "        if num % 2 != 0:\n",
    "            odd_numbers.append(num)\n",
    "    return odd_numbers\n",
    "\n",
    "# Call the function and store the returned list\n",
    "result = get_odd_numbers()\n",
    "\n",
    "# Print the list of odd numbers\n",
    "print(result)\n"
   ]
  },
  {
   "cell_type": "markdown",
   "id": "a141d259",
   "metadata": {},
   "source": [
    "##### Q2. Why *args and **kwargs is used in some functions? Create a function each for *args and **kwargs to demonstrate their use."
   ]
  },
  {
   "cell_type": "markdown",
   "id": "d7b66623",
   "metadata": {},
   "source": [
    "###### Answer:- `*args` and `**kwargs` are used in some functions to allow for a flexible number of arguments to be passed. This flexibility enables functions to handle different numbers of arguments without explicitly defining them in the function signature."
   ]
  },
  {
   "cell_type": "code",
   "execution_count": 5,
   "id": "f1d1a804",
   "metadata": {},
   "outputs": [
    {
     "name": "stdout",
     "output_type": "stream",
     "text": [
      "Hello, Ayush\n",
      "Hello, Boby\n",
      "Hello, Abhishek\n"
     ]
    }
   ],
   "source": [
    "#In the context of function parameters, `*args` is used to collect a variable number of non-keyword arguments into a tuple.\n",
    "def greet(*args):\n",
    "    for name in args:\n",
    "        print(\"Hello,\", name)\n",
    "\n",
    "# Call the function with multiple arguments\n",
    "greet(\"Ayush\", \"Boby\", \"Abhishek\")\n"
   ]
  },
  {
   "cell_type": "code",
   "execution_count": 18,
   "id": "793a5f92",
   "metadata": {},
   "outputs": [
    {
     "name": "stdout",
     "output_type": "stream",
     "text": [
      "name : A\n",
      "age : 25\n",
      "city : Kharagpur\n"
     ]
    }
   ],
   "source": [
    "'''\n",
    "In the context of function parameters, **kwargs is used to collect a variable number of keyword \n",
    "arguments into a dictionary.\n",
    "'''\n",
    "def print_details(**kwargs):\n",
    "    for key, value in kwargs.items():\n",
    "        print(key, \":\", value)\n",
    "        \n",
    "print_details(name=\"A\", age=25, city=\"Kharagpur\")\n",
    "\n"
   ]
  },
  {
   "cell_type": "markdown",
   "id": "0da1884c",
   "metadata": {},
   "source": [
    "##### Q3.  What is an iterator in python? Name the method used to initialise the iterator object and the method used for iteration.Use these methods to print the first five elements of the given list [2, 4, 6, 8,10, 12, 14,16, 18, 20]."
   ]
  },
  {
   "cell_type": "markdown",
   "id": "96559ef1",
   "metadata": {},
   "source": [
    "###### \n",
    "Ans:-- An iterator is an object that allows for iteration over a sequence of elements. It provides a way to access the elements of a collection or container, one at a time, without needing to know the underlying structure of the collection. Iterators are used to implement the iterator protocol, which involves two methods:\n",
    "\n"
   ]
  },
  {
   "cell_type": "markdown",
   "id": "8868248b",
   "metadata": {},
   "source": [
    "###### 1. Initialization Method: `__iter__()`\n",
    "   - The `__iter__()` method is used to initialize and return the iterator object itself.\n",
    "   - It is called when an iterator is created or reset for a new iteration.\n",
    "   - This method should return the iterator object, which typically is the object itself.\n",
    "\n",
    "##### 2. Iteration Method: `__next__()`\n",
    "   - The `__next__()` method is used to retrieve the next element from the iterator.\n",
    "   - It is called each time we want to get the next element in the sequence.\n",
    "   - This method should return the next element and raise the `StopIteration` exception when there are no more elements."
   ]
  },
  {
   "cell_type": "code",
   "execution_count": 20,
   "id": "4329bc56",
   "metadata": {},
   "outputs": [
    {
     "name": "stdout",
     "output_type": "stream",
     "text": [
      "2\n",
      "4\n",
      "6\n",
      "8\n",
      "10\n"
     ]
    }
   ],
   "source": [
    "my_list = [2, 4, 6, 8, 10, 12, 14, 16, 18, 20]\n",
    "my_iterator = iter(my_list)\n",
    "\n",
    "for i in range(5):\n",
    "    element = next(my_iterator)\n",
    "    print(element)"
   ]
  },
  {
   "cell_type": "markdown",
   "id": "befe1880",
   "metadata": {},
   "source": [
    "##### Q4.  What is a generator function in python? Why yield keyword is used? Give an example of a generator function."
   ]
  },
  {
   "cell_type": "markdown",
   "id": "e257c2f4",
   "metadata": {},
   "source": [
    "###### \n",
    "Ans.:- A generator function is a special type of function that generates a sequence of values using the yield keyword. It allows you to create iterators in a more concise and elegant way compared to manually implementing the iterator protocol.\n",
    "The yield keyword is used in Python to define a generator function and to create generator objects.Here's why the yield keyword is used and its significance:\n",
    "    Generates a sequence of values,\n",
    "    Supports lazy evaluation,\n",
    "    Saves memory and improves efficiency,\n",
    "    Enables iteration"
   ]
  },
  {
   "cell_type": "code",
   "execution_count": 15,
   "id": "aea1471a",
   "metadata": {},
   "outputs": [
    {
     "name": "stdout",
     "output_type": "stream",
     "text": [
      "0\n",
      "2\n",
      "4\n",
      "6\n",
      "8\n"
     ]
    },
    {
     "data": {
      "text/plain": [
       "generator"
      ]
     },
     "execution_count": 15,
     "metadata": {},
     "output_type": "execute_result"
    }
   ],
   "source": [
    "def even_numbers(n):\n",
    "    for i in range(n):\n",
    "        if i % 2 == 0:\n",
    "            yield i\n",
    "\n",
    "# Using the generator function\n",
    "even_gen = even_numbers(10)\n",
    "\n",
    "for num in even_gen:\n",
    "    print(num)\n",
    "type(even_gen)"
   ]
  },
  {
   "cell_type": "markdown",
   "id": "0fe379a4",
   "metadata": {},
   "source": [
    "###### Q5. Create a generator function for prime numbers less than 1000. Use the next() method to print the first 20 prime numbers."
   ]
  },
  {
   "cell_type": "code",
   "execution_count": 91,
   "id": "6123ad9e",
   "metadata": {},
   "outputs": [
    {
     "name": "stdout",
     "output_type": "stream",
     "text": [
      "1\n",
      "2\n",
      "3\n",
      "5\n",
      "7\n",
      "11\n",
      "13\n",
      "17\n",
      "19\n",
      "23\n",
      "29\n",
      "31\n",
      "37\n",
      "41\n",
      "43\n",
      "47\n",
      "53\n",
      "59\n",
      "61\n",
      "67\n"
     ]
    }
   ],
   "source": [
    "def prime(n):\n",
    " \n",
    "    l=n-n\n",
    "    for i in range(n):\n",
    "        count=0\n",
    "        k=1\n",
    "        for j in range(n):\n",
    "            k=k+1\n",
    "            if l % k == 0:\n",
    "                count += 1        \n",
    "        if  l==1 or count==1:\n",
    "            yield l\n",
    "            \n",
    "        l+=1\n",
    "\n",
    "prime_gen= prime(1000)\n",
    "for i in range(20): # range give according how much yielding results you want\n",
    "    print(next(prime_gen))"
   ]
  },
  {
   "cell_type": "markdown",
   "id": "a0a9e2dd",
   "metadata": {},
   "source": [
    "###### Q6. Write a python program to print the first 10 Fibonacci numbers using a while loop."
   ]
  },
  {
   "cell_type": "code",
   "execution_count": 94,
   "id": "4e85f744",
   "metadata": {},
   "outputs": [
    {
     "name": "stdout",
     "output_type": "stream",
     "text": [
      "0\n",
      "1\n",
      "1\n",
      "2\n",
      "3\n",
      "5\n",
      "8\n",
      "13\n",
      "21\n",
      "34\n"
     ]
    }
   ],
   "source": [
    "def fibonacci(limit):\n",
    "    a, b = 0, 1\n",
    "    while a < limit:\n",
    "        yield a\n",
    "        a, b = b, a + b\n",
    "\n",
    "# Using the generator function\n",
    "fib_gen = fibonacci(100)\n",
    "i=1\n",
    "while i<=10:\n",
    "    print(next(fib_gen))\n",
    "    i+=1\n"
   ]
  },
  {
   "cell_type": "markdown",
   "id": "9bdc096d",
   "metadata": {},
   "source": [
    "##### Q7. Write a List Comprehension to iterate through the given string: ‘pwskills’."
   ]
  },
  {
   "cell_type": "code",
   "execution_count": 96,
   "id": "685d959e",
   "metadata": {},
   "outputs": [
    {
     "name": "stdout",
     "output_type": "stream",
     "text": [
      "['p', 'w', 's', 'k', 'i', 'l', 'l', 's']\n"
     ]
    }
   ],
   "source": [
    "string='pwskills'\n",
    "lst=[i for i in string]\n",
    "print(lst)"
   ]
  },
  {
   "cell_type": "markdown",
   "id": "4e3c8ba5",
   "metadata": {},
   "source": [
    "###### Q8. Write a python program to check whether a given number is Palindrome or not using a while loop."
   ]
  },
  {
   "cell_type": "code",
   "execution_count": 120,
   "id": "4ae27b36",
   "metadata": {},
   "outputs": [
    {
     "name": "stdout",
     "output_type": "stream",
     "text": [
      "Please Enter the number55845\n",
      "not, pelindrome\n"
     ]
    }
   ],
   "source": [
    "n=int(input('Please Enter the number'))\n",
    "m=0\n",
    "l=[]\n",
    "while True:\n",
    "    m=n%10\n",
    "    l.append(m)\n",
    "    n=int(n/10)\n",
    "    if n==0:\n",
    "        break\n",
    "\n",
    "if l==list(reversed(l)):\n",
    "    print('yes, pelindrome')\n",
    "else:\n",
    "    print('not, pelindrome')\n"
   ]
  },
  {
   "cell_type": "markdown",
   "id": "71c9c895",
   "metadata": {},
   "source": [
    "###### Q9. Write a code to print odd numbers from 1 to 100 using list comprehension."
   ]
  },
  {
   "cell_type": "code",
   "execution_count": 124,
   "id": "3245fdaa",
   "metadata": {},
   "outputs": [
    {
     "name": "stdout",
     "output_type": "stream",
     "text": [
      "[1, 3, 5, 7, 9, 11, 13, 15, 17, 19, 21, 23, 25, 27, 29, 31, 33, 35, 37, 39, 41, 43, 45, 47, 49, 51, 53, 55, 57, 59, 61, 63, 65, 67, 69, 71, 73, 75, 77, 79, 81, 83, 85, 87, 89, 91, 93, 95, 97, 99]\n"
     ]
    }
   ],
   "source": [
    "l=[i for i in range(1,101)]\n",
    "print([i for i in l if i%2!=0])"
   ]
  },
  {
   "cell_type": "code",
   "execution_count": null,
   "id": "75d71b2d",
   "metadata": {},
   "outputs": [],
   "source": []
  }
 ],
 "metadata": {
  "kernelspec": {
   "display_name": "Python 3 (ipykernel)",
   "language": "python",
   "name": "python3"
  },
  "language_info": {
   "codemirror_mode": {
    "name": "ipython",
    "version": 3
   },
   "file_extension": ".py",
   "mimetype": "text/x-python",
   "name": "python",
   "nbconvert_exporter": "python",
   "pygments_lexer": "ipython3",
   "version": "3.9.13"
  }
 },
 "nbformat": 4,
 "nbformat_minor": 5
}
