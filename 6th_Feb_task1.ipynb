{
 "cells": [
  {
   "cell_type": "markdown",
   "id": "0b6bf89f",
   "metadata": {},
   "source": [
    "##### Q1. Create a function which will take a list as an argument and return the product of all the numbers after creating a flat list. Use the below-given list as an argument for your function.\n",
    "##### list1 = [1,2,3,4, [44,55,66, True], False, (34,56,78,89,34), {1,2,3,3,2,1}, {1:34, \"key2\": [55, 67, 78, 89], 4: (45, 22, 61, 34)}, [56, 'data science'], 'Machine Learning'] \n",
    "###### Note: you must extract numeric keys and values of the dictionary also."
   ]
  },
  {
   "cell_type": "code",
   "execution_count": 18,
   "id": "c2001f0e",
   "metadata": {},
   "outputs": [],
   "source": [
    "num=[1,2,3,4, [44,55,66, True], False, (34,56,78,89,34), {1,2,3,3,2,1}, {1:34, \"key2\": [55, 67, 78, 89], 4: (45, \n",
    "22, 61, 34)}, [56, 'data science'], 'Machine Learning']\n",
    "\n",
    "data=[]\n",
    "data1=[]\n",
    "data2=[]\n",
    "data3=[]\n",
    "data4=[]\n",
    "\n",
    "for i in num:\n",
    "    if type(i)== int :\n",
    "        data.append(i)\n",
    "\n",
    "    if type(i)== list:\n",
    "        data1.append(i)\n",
    "        \n",
    "    if type(i)== tuple:\n",
    "        data2.append(i)\n",
    "        \n",
    "    if type(i)== dict:\n",
    "        data3.append(i)\n",
    "    \n",
    "    if type(i)== set:\n",
    "        data4.append(i)\n",
    "\n",
    "        "
   ]
  },
  {
   "cell_type": "code",
   "execution_count": 48,
   "id": "f3ef6877",
   "metadata": {},
   "outputs": [],
   "source": [
    "def find(num):\n",
    "    lst=[]\n",
    "    for i in num:\n",
    "        if type(i)== int :\n",
    "            lst.append(i)\n",
    "        \n",
    "        if type(i)== list:\n",
    "            for x in i:\n",
    "                if type(x)==int:\n",
    "                    lst.append(x)\n",
    "        if type(i)== tuple:\n",
    "            for x in i:\n",
    "                if type(x)==int:\n",
    "                    lst.append(x)\n",
    "        \n",
    "        if type(i)== dict:\n",
    "            for key, values in i.items():\n",
    "                if type(key)== int:\n",
    "                    lst.append(key)\n",
    "                if type(values)== int:\n",
    "                    lst.append(values)\n",
    "            \n",
    "                if type(key)== tuple:\n",
    "                    for x in key:\n",
    "                        if type(x)== int:\n",
    "                            lst.append(x)\n",
    "                if type(values)== tuple:\n",
    "                    for x in values:\n",
    "                        if type(x)== int:\n",
    "                            lst.append(x)\n",
    "                        \n",
    "                if type(key)== list:\n",
    "                    for x in key:\n",
    "                        if type(x)== int:\n",
    "                            lst.append(x)\n",
    "                if type(values)== list:\n",
    "                    for x in values:\n",
    "                        if type(x)== int:\n",
    "                            lst.append(x)\n",
    "                        \n",
    "                if type(key)== set:\n",
    "                    for x in key:\n",
    "                        if type(x)== int:\n",
    "                            lst.append(x)\n",
    "                if type(values)== set:\n",
    "                    for x in values:\n",
    "                        if type(x)== int:\n",
    "                            lst.append(x)\n",
    "      \n",
    "    \n",
    "        if type(i)== set:\n",
    "            for x in i:\n",
    "                if type(x)==int:\n",
    "                    lst.append(x)\n",
    "    return lst\n",
    "\n",
    "    \n"
   ]
  },
  {
   "cell_type": "code",
   "execution_count": 63,
   "id": "e246700a",
   "metadata": {},
   "outputs": [
    {
     "name": "stdout",
     "output_type": "stream",
     "text": [
      "[1, 2, 3, 4, 44, 55, 66, 56, 34, 56, 78, 89, 34, 1, 34, 55, 67, 78, 89, 4, 45, 22, 61, 34, 1, 2, 3]\n",
      "4134711838987085478833841242112000\n"
     ]
    }
   ],
   "source": [
    "lst=[find(data), find(data1),find(data2),find(data3),find(data4)]\n",
    "s=[]\n",
    "for i in lst:\n",
    "    for j in i:\n",
    "        s.append(j)\n",
    "print(s)\n",
    "import math\n",
    "p=math.prod(s)\n",
    "print(p)"
   ]
  },
  {
   "cell_type": "markdown",
   "id": "ad079c13",
   "metadata": {},
   "source": [
    "###### Q2. Write a python program for encrypting a message sent to you by your friend. The logic of encryption should be such that, for a the output should be z. For b, the output should be y. For c, the output should be x respectively. Also, the whitespace should be replaced with a dollar sign. Keep the punctuation marks unchanged.\n",
    "\n",
    "###### Input Sentence: I want to become a Data Scientist. Encrypt the above input sentence using the program you just created.\n",
    "###### Note: Convert the given input sentence into lowercase before encrypting. The final output should be lowercase."
   ]
  },
  {
   "cell_type": "code",
   "execution_count": 72,
   "id": "1f58074d",
   "metadata": {},
   "outputs": [
    {
     "name": "stdout",
     "output_type": "stream",
     "text": [
      "Encrypted Sentence: r$dzmg$gl$yvxlnv$z$wzgz$hxrvmgrhg.\n"
     ]
    }
   ],
   "source": [
    "def encrypt_message(message):\n",
    "    encrypted_message = \"\"\n",
    "    for char in message:\n",
    "        if char.isalpha():\n",
    "            if char.islower():\n",
    "                encrypted_char = chr(122 - (ord(char) - 97))\n",
    "                encrypted_message += encrypted_char\n",
    "            else:\n",
    "                encrypted_char = chr(90 - (ord(char) - 65))\n",
    "                encrypted_message += encrypted_char\n",
    "        elif char == \" \":\n",
    "            encrypted_message += \"$\"\n",
    "        else:\n",
    "            encrypted_message += char\n",
    "    return encrypted_message.lower()\n",
    "\n",
    "input_sentence = \"I want to become a Data Scientist.\"\n",
    "encrypted_sentence = encrypt_message(input_sentence.lower())\n",
    "print(\"Encrypted Sentence:\", encrypted_sentence)\n",
    "\n"
   ]
  }
 ],
 "metadata": {
  "kernelspec": {
   "display_name": "Python 3 (ipykernel)",
   "language": "python",
   "name": "python3"
  },
  "language_info": {
   "codemirror_mode": {
    "name": "ipython",
    "version": 3
   },
   "file_extension": ".py",
   "mimetype": "text/x-python",
   "name": "python",
   "nbconvert_exporter": "python",
   "pygments_lexer": "ipython3",
   "version": "3.9.13"
  }
 },
 "nbformat": 4,
 "nbformat_minor": 5
}
